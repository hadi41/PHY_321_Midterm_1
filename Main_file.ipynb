{
 "cells": [
  {
   "cell_type": "markdown",
   "metadata": {},
   "source": [
    "$$\n",
    "\\def\\half{\\frac{1}{2}}\n",
    "\\def\\O{\\mathcal{O}}\n",
    "\\def\\ex{\\vec{e_x}}\n",
    "\\def\\ey{\\vec{e_y}}\n",
    "\\def\\ez{\\vec{e_z}}\n",
    "\\def\\F{\\vec{F}}\n",
    "\\def\\r{\\vec{r}}\n",
    "\\def\\a{\\vec{a}}\n",
    "\\def\\v{\\vec{v}}\n",
    "\\def\\begal{\\begin{align}}\n",
    "\\def\\endal{\\end{align}}\n",
    "\\def\\div{\\nabla\\cdot}\n",
    "\\newcommand{\\parx}[1]{\\frac{\\partial #1}{\\partial x}}\n",
    "\\newcommand{\\pary}[1]{\\frac{\\partial #1}{\\partial y}}\n",
    "\\newcommand{\\parz}[1]{\\frac{\\partial #1}{\\partial z}}\n",
    "\\newcommand{\\parti}[2]{\\frac{\\partial #1}{\\partial #2}}\n",
    "\\newcommand{\\ddx}[1]{\\frac{d #1}{dx}}\n",
    "\\newcommand{\\ddy}[1]{\\frac{d #1}{dy}}\n",
    "\\newcommand{\\ddz}[1]{\\frac{d #1}{dz}}\n",
    "\\newcommand{\\ddr}[1]{\\frac{d #1}{dr}}\n",
    "\\newcommand{\\ddt}[1]{\\frac{d #1}{dt}}\n",
    "\\newcommand{\\ddttwo}[1]{\\frac{d^2 #1}{dt^2}}\n",
    "\\def\\grad{\\nabla}\n",
    "\\newcommand{\\delcartesian}[1]{\\frac{\\partial}{\\partial x_{ #1}}\\ex + \\frac{\\partial}{\\partial y_{ #1}}\\ey + \\frac{\\partial}{\\partial z_{ #1}}\\ez}\n",
    "\\def\\lp{\\left(}\n",
    "\\def\\rp{\\right)}\n",
    "\\def\\lb{\\left[}\n",
    "\\def\\rb{\\right]}\n",
    "\\def\\lc{\\left\\{}\n",
    "\\def\\rc{\\right\\}}\n",
    "\\newcommand{\\over}[1]{\\frac{1}{#1}}\n",
    "\\def\\rabs{\\sqrt{x^2 + y^2 + z^2}}\n",
    "\\def\\rvec{x\\ex + y\\ey + z\\ez}\n",
    "$$"
   ]
  },
  {
   "cell_type": "markdown",
   "metadata": {},
   "source": [
    "<!-- dom:TITLE: PHY321: Classical Mechanics 1 -->\n",
    "# PHY321: Classical Mechanics 1\n",
    "<!-- dom:AUTHOR: First midterm project, due Wednesday March 11 -->\n",
    "<!-- Author: -->  \n",
    "\n",
    "## By Joseph Chung and Abdurrahman Hadi Erturk\n",
    "**First midterm project, due Wednesday March 11**\n",
    "\n",
    "Date: **Feb 26, 2020**\n",
    "\n",
    "### Practicalities about  homeworks and projects\n",
    "\n",
    "1. You can work in groups (optimal groups are often 2-3 people) or by yourself. If you work as a group you can hand in one answer only if you wish. **Remember to write your name(s)**!\n",
    "\n",
    "2. How do I(we)  hand in?  You can hand in the paper and pencil exercises as a hand-written document. Alternatively, you can hand in everyhting (if you are ok with typing mathematical formulae using say Latex) as a jupyter notebook at D2L. The numerical part should always be handed in as a jupyter notebook by the deadline at D2L. \n",
    "\n",
    "### Introduction to the first midterm project, total score 100 points\n",
    "\n",
    "The relevant reading background is\n",
    "1. chapters 2-5 of Taylor.\n",
    "\n",
    "2. chapters 6-14 of Malthe-Sørenssen.\n",
    "\n",
    "In this midterm project we will start with a potential similar to the\n",
    "one we discussed in exercise 4 in homework 6. There are some elements\n",
    "of that exercise which are repeated here, similarly, a good fraction\n",
    "of the codes you have developed for homeworks 4-6 can be used here.\n",
    "We start with a one-dimensional potential and motion.  Thereafter we\n",
    "extend this potential model to a two-dimensional model and study the\n",
    "numerical solution of the corresponding problem.\n",
    "\n",
    "### Part 1, Particle in a one-dimensional  potential\n",
    "\n",
    "We consider a particle of mass $m$ moving in a one-dimensional potential,"
   ]
  },
  {
   "cell_type": "markdown",
   "metadata": {},
   "source": [
    "$$\n",
    "V(x)=\\frac{V_0}{d^4}\\left(x^4-2x^2d^2+d^4\\right).\n",
    "$$"
   ]
  },
  {
   "cell_type": "markdown",
   "metadata": {},
   "source": [
    "We will assume all other forces on the particle are small in comparison, and neglect them in our model.  The parameters $V_0$ and $d$ are known constants. \n",
    "\n",
    "1. (5pt) Plot the potential and find the  equilibrium points (stable and unstable) by requiring that the first derivative of the potential is zero. Make an energy diagram (see for example Malthe-Sørenssen chapter 11.3) and mark the equilibrium points on the diagram and characterize their stability. The position of the particle is $x$. "
   ]
  },
  {
   "cell_type": "markdown",
   "metadata": {},
   "source": [
    "![thumbnail_20200308_155221.jpg](Images/thumbnail_20200308_155221.jpg)"
   ]
  },
  {
   "cell_type": "markdown",
   "metadata": {},
   "source": [
    "Stable equilibria at x = $\\pm$ d, unstable at x = 0."
   ]
  },
  {
   "cell_type": "markdown",
   "metadata": {},
   "source": [
    "2. (5pt) Choose two different energies that give two distinct types of motions, draw them into the energy diagram, and describe the motion in each case."
   ]
  },
  {
   "cell_type": "markdown",
   "metadata": {},
   "source": [
    "![thumbnail_20200308_155318.jpg](Images/thumbnail_20200308_155318.jpg)"
   ]
  },
  {
   "cell_type": "markdown",
   "metadata": {},
   "source": [
    "![thumbnail_20200308_155409.jpg](Images/thumbnail_20200308_155409.jpg)"
   ]
  },
  {
   "cell_type": "markdown",
   "metadata": {},
   "source": [
    "For the first image, the particle starts at a potential less then $V_0$. Therefore, it oscillates in its starting well. \n",
    "\n",
    "For the second image, the particle starts at a potential greater than $V_0$. Therefore, it oscillates through one, goes over the hump at x = 0, and then oscillates the second well up to the same y-coordinate as the starting point. Then, it oscillates back to the original point."
   ]
  },
  {
   "cell_type": "markdown",
   "metadata": {},
   "source": [
    "3. (5pt) If the particle  starts at rest at $x=2d$, what is the velocity of the atom at the point $x=d$?"
   ]
  },
  {
   "cell_type": "markdown",
   "metadata": {},
   "source": [
    "Let $ V(x)=\\frac{V_0}{d^4}\\left(x^4-2x^2d^2+d^4\\right).$ We set this equal to some KE and PE shown below where one side is at $x = 2d$ and $x=d$ for the other side\n",
    "\n",
    "$$\n",
    "V(2d) = \\frac{V_0}{d^4}\\left((2d)^4-2(2d)^2d^2+d^4\\right) = \\half m\\v^2 + \\frac{V_0}{d^4}\\left((d)^4-2(d)^2d^2+d^4\\right)\n",
    "$$\n",
    "\n",
    "$$\n",
    "= \\frac{V_0}{d^4}\\left(16d^4-8d^4+d^4\\right) = \\half m\\v^2 + \\frac{V_0}{d^4}\\left(0\\right)\n",
    "$$\n",
    "\n",
    "$$\n",
    "={V_0}(16-8+1) = {V_0}(9) = \\half m\\v^2\n",
    "$$\n",
    "\n",
    "$$\n",
    "= \\pm\\sqrt{\\frac{18V_0}{m}} = -\\sqrt{\\frac{2V_0}{m}} = \\v\n",
    "$$\n",
    "\n",
    "It is minus because it is going in the negative direction of x."
   ]
  },
  {
   "cell_type": "markdown",
   "metadata": {},
   "source": [
    "4. (5pt) If the particle  starts at rest at $x=d$ with velocity $v_0$, how large must $v_0$ be for the  particle to reach the point $x=−d$?"
   ]
  },
  {
   "cell_type": "markdown",
   "metadata": {},
   "source": [
    "Because the particle must be able to go over the hump, or the local maxima at x = 0, we set the potential energy at x = 0 equal to $0.5mv^2$.\n",
    "\n",
    "$$\n",
    "V(x=0)=\\frac{V_0}{d^4}\\left(0^4-2*0^2d^2+d^4\\right) = \\half mv^2.\n",
    "$$\n",
    "\n",
    "$$\n",
    "\\frac{V_0}{d^4}(d^4)*2 = mv^2\n",
    "$$\n",
    "\n",
    "$$\n",
    "\\frac{2V_0}{m} = v^2\n",
    "$$\n",
    "\n",
    "$$\n",
    "\\pm\\sqrt\\frac{2V_0}{m} = v\n",
    "$$\n",
    "\n",
    "But because we are going to the negative direction, $v = -\\sqrt\\frac{2V_0}{m}$"
   ]
  },
  {
   "cell_type": "markdown",
   "metadata": {},
   "source": [
    "5. (5pt) Use the above potential to set up the total forces acting on the particle.  Find the acceleration acting on the particle. Is this a conservative force? Calculate also the **curl** of the force  $\\boldsymbol{\\nabla}\\times \\boldsymbol{F}$ in order to validate your conclusion. "
   ]
  },
  {
   "cell_type": "markdown",
   "metadata": {},
   "source": [
    "$$\n",
    "\\F(x) =  -\\frac{dV}{dx}\\ex= -\\ddx{(\\frac{V_0}{d^4}x^4-2x^2d^2+d^4)}dx\\ex = -\\frac{V_0}{d^4}(4x^3-4xd^2)\\ex\n",
    "$$\n",
    "\n",
    "$$\n",
    "\\F(x) = m\\a(x); \\a(x) = \\F(x)/m\n",
    "$$\n",
    "\n",
    "$$\n",
    "\\a(x) = \\frac{-\\frac{V_0}{d^4}(4x^3-4xd^2)}{m}\\ex\n",
    "$$\n",
    "\n",
    "This force is conservative because it is only dependent on position. However, by calculating the curl of the force, this can be confirmed.\n",
    "\n",
    "$\\boldsymbol{\\nabla}\\times \\boldsymbol{F}$ =\n",
    "\n",
    "$$\n",
    "\\begin{vmatrix}\n",
    "    i & j & k\\\\\n",
    "    -(V_0/d^4)(12x^2-4d^2) & 0 & 0\\\\\n",
    "    -\\frac{V_0}{d^4}(4x^3-4xd^2) & 0 & 0\\\\\n",
    "\\end{vmatrix}\n",
    "$$\n",
    "\n",
    "$$\n",
    "= i(0-0) - j(0-0) + k(0-0) = 0\n",
    "$$\n",
    "\n",
    "Anything multiplied by 0 is 0. For the i direction, the determinant is trivial, but for the j and k directions, it is slightly less trivial. However, $\\frac{dF}{dx} *$0 = 0 amd $\\F*0$ = 0 so this was used such that the mathematical expression above holds true.\n",
    "\n",
    "This confirms that the force is conservative.\n",
    "\n"
   ]
  },
  {
   "cell_type": "markdown",
   "metadata": {},
   "source": [
    "6. (5pt) Are linear momentum and angular momentum conserved? You need to show this by calculating the quantities."
   ]
  },
  {
   "cell_type": "markdown",
   "metadata": {},
   "source": [
    "Because there only exists an external force, linear momentum is not conserved. THis can showed in such manner.\n",
    "\n",
    "THe net force of the object $\\F^{ext}$ = $-\\frac{V_0}{d^4}(4x^3-4xd^2)\\ex$, from the potential. There does not exist any other force upon the particle, therefore, $\\F_{total} = \\F^{ext}$. Because $\\frac{dP}{dt} = F_{total}$, $\\frac{dP}{dt} = F^{ext} = -\\frac{V_0}{d^4}(4x^3-4xd^2)$. Earlier, it was proven in class that if $F^{ext} =0$, then $P$, the momentum of the system, was constant. However, $F^{ext} \\neq 0 \\therefore P \\neq$ a constant. \n",
    "\n",
    "Conservation of linear momentum is conserved iff $\\frac{dl}{dt} = 0$. $l = r \\times P$, where r is the radius, or a constant. However, from class, it was proven that $\\frac{dl}{dt} = r \\times F = \\tau$, or torque. Therefore, $\\frac{dl}{dt} = 0$ for conservation of $l$. However, because $F^{ext} = -\\frac{V_0}{d^4}(4x^3-4xd^2)$ is the only force that is present, and because it is not constant, $\\frac{dl}{dt} = r \\times F = r \\times -\\frac{V_0}{d^4}(4x^3-4xd^2) \\neq 0$. Therefore, angular momentum is also not conserved."
   ]
  },
  {
   "cell_type": "markdown",
   "metadata": {},
   "source": [
    "7. (5pt) Write a numerical algorithm to find the position and velocity of the particle at a time $t+\\Delta t$ given the position and velocity at a time $t$. Here we aim at the **Euler-Cromer and the Velocity Verlet algorithms**.   "
   ]
  },
  {
   "cell_type": "code",
   "execution_count": null,
   "metadata": {},
   "outputs": [],
   "source": [
    "import numpy as np\n",
    "\n",
    "def euler_cromer(a,x0,v0,t,args):\n",
    "    if type(x0) != list:\n",
    "        x = np.zeros(len(t))\n",
    "        x[0] = x0\n",
    "        v = np.zeros(len(t))\n",
    "        v[0] = v0\n",
    "    else:\n",
    "        x = np.zeros((len(t),len(x0)))\n",
    "        x[0] = x0\n",
    "        v = np.zeros((len(t),len(x0)))\n",
    "        v[0] = v0\n",
    "    for i in range(len(t)-1):\n",
    "        DeltaT = t[i+1]-t[i]\n",
    "        v[i+1]=v[i]+a(x[i],v[i],t[i],*args)*DeltaT\n",
    "        x[i+1]=x[i] + v[i+1] * DeltaT\n",
    "    return x, v\n",
    "\n",
    "def velocity_verlet(a,x0,v0,t,args):\n",
    "    if type(x0) != list:\n",
    "        x = np.zeros(len(t))\n",
    "        x[0] = x0\n",
    "        v = np.zeros(len(t))\n",
    "        v[0] = v0\n",
    "    else:\n",
    "        x = np.zeros((len(t),len(x0)))\n",
    "        x[0] = x0\n",
    "        v = np.zeros((len(t),len(x0)))\n",
    "        v[0] = v0\n",
    "    for i in range(len(t)-1):\n",
    "        DeltaT = t[i+1]-t[i]\n",
    "        x[i+1]=x[i] + v[i] * DeltaT + 0.5 * a(x[i],v[i],t[i],*args) * DeltaT**2\n",
    "        v[i+1]=v[i] + 0.5 * (a(x[i],v[i],t[i],*args)+a(x[i+1],v[i],t[i+1],*args))*DeltaT\n",
    "    return x, v"
   ]
  },
  {
   "cell_type": "markdown",
   "metadata": {},
   "source": [
    "8. (10pt) Implement the numerical algorithms in a program to find the position of the particle as function of time from $t=0$ to $t=30$ s using a mass  $m=1.0$ kg, the parameter $V_0=1$ J and $d=0.1$ m. Make a plot of three distinct positions with initial conditions $x_0=d$ and $v_0=0.5$ m/s, $x_0=d$ and $v_0=1.5$ m/s, and $x_0=d$ and $v_0=2.5$ m/s. Plot also the velocity.  Perform calculations with and without the term $x^4$ in the potential. Do you see a difference? Compare and discuss the results obtained with the Velocity Verlet algorithm and the Euler-Cromer algorithm. "
   ]
  },
  {
   "cell_type": "code",
   "execution_count": null,
   "metadata": {},
   "outputs": [],
   "source": [
    "def a(r,v,t,m,V0,d):\n",
    "    return -4*V0/m/d**4*(np.linalg.norm(r)**2 - d**2) * r\n",
    "\n",
    "t = np.arange(0,3,0.001)\n",
    "\n",
    "x1, v1 = euler_cromer(a,0.1,0.5,t,[1,1,0.1])\n",
    "x2, v2 = euler_cromer(a,0.1,1.5,t,[1,1,0.1])\n",
    "x3, v3 = euler_cromer(a,0.1,2.5,t,[1,1,0.1])\n",
    "\n",
    "import matplotlib.pyplot as plt\n",
    "%matplotlib inline\n",
    "\n",
    "fig, ax = plt.subplots(4,4,figsize=(15,15))\n",
    "ax[0,0].plot(t,x1)\n",
    "ax[0,0].set_title('x vs t for ec and v0 = 0.5 m/s')\n",
    "ax[0,1].plot(t,v1)\n",
    "ax[0,1].set_title('v vs t for ec and v0 = 0.5 m/s')\n",
    "ax[1,0].plot(t,x2)\n",
    "ax[1,0].set_title('x vs t for ec and v0 = 1.5 m/s')\n",
    "ax[1,1].plot(t,v2)\n",
    "ax[1,1].set_title('v vs t for ec and v0 = 1.5 m/s')\n",
    "ax[2,0].plot(t,x3)\n",
    "ax[2,0].set_title('x vs t for ec and v0 = 2.5 m/s')\n",
    "ax[2,1].plot(t,v3)\n",
    "ax[2,1].set_title('v vs t for ec and v0 = 2.5 m/s')\n",
    "\n",
    "x4, v4 = velocity_verlet(a,0.1,0.5,t,[1,1,0.1])\n",
    "x5, v5 = velocity_verlet(a,0.1,1.5,t,[1,1,0.1])\n",
    "x6, v6 = velocity_verlet(a,0.1,2.5,t,[1,1,0.1])\n",
    "\n",
    "ax[0,2].plot(t,x4)\n",
    "ax[0,2].set_title('x vs t for vv and v0 = 0.5 m/s')\n",
    "ax[0,3].plot(t,v4)\n",
    "ax[0,3].set_title('v vs t for vv and v0 = 0.5 m/s')\n",
    "ax[1,2].plot(t,x5)\n",
    "ax[1,2].set_title('x vs t for vv and v0 = 1.5 m/s')\n",
    "ax[1,3].plot(t,v5)\n",
    "ax[1,3].set_title('v vs t for vv and v0 = 1.5 m/s')\n",
    "ax[2,2].plot(t,x6)\n",
    "ax[2,2].set_title('x vs t for vv and v0 = 2.5 m/s')\n",
    "ax[2,3].plot(t,v6)\n",
    "ax[2,3].set_title('v vs t for vv and v0 = 2.5 m/s')\n",
    "\n",
    "def a_divergent(r,v,t,m,V0,d):\n",
    "    return -4*V0/m/d**4*( - d**2) * r\n",
    "\n",
    "xdec, vdec = euler_cromer(a_divergent,0.1,0.5,t,[1,1,0.1])\n",
    "\n",
    "ax[3,0].plot(t,xdec)\n",
    "ax[3,0].set_title('x vs t without x^4 (ec)')\n",
    "ax[3,1].plot(t,vdec)\n",
    "ax[3,1].set_title('v vs t without x^4 (ec)')\n",
    "\n",
    "xdvv, vdvv = velocity_verlet(a_divergent,0.1,0.5,t,[1,1,0.1])\n",
    "\n",
    "ax[3,2].plot(t,xdvv)\n",
    "ax[3,2].set_title('x vs t without x^4 (vv)')\n",
    "ax[3,3].plot(t,vdvv)\n",
    "ax[3,3].set_title('v vs t without x^4 (vv)')\n",
    "\n",
    "plt.show()\n",
    "print('we simulated it for 3 seconds rather than 30 seconds to observe the motion more clearly')"
   ]
  },
  {
   "cell_type": "markdown",
   "metadata": {},
   "source": [
    "We don't see a big difference between the euler cromer and velocity verlet methods. This is the case even if we simulate the particles for 30 seconds rather than 3 seconds. And both methdos seem to conserve energy as expected.\n",
    "\n",
    "Additionally, the particle exhibits an oscillatory motion in every case except for without the $x^4$ term."
   ]
  },
  {
   "cell_type": "markdown",
   "metadata": {},
   "source": [
    "9. (5pt) Describe the behavior of the particle for the three initial conditions  and sketch the motion in an energy diagram. Is energy conserved in your simulations?"
   ]
  },
  {
   "cell_type": "markdown",
   "metadata": {},
   "source": [
    "$$\n",
    "\\a(x) = \\frac{-\\frac{V_0}{d^4}(4x^3-4xd^2)}{m}\\ex - \\frac{\\beta}{m}\\v\n",
    "$$"
   ]
  },
  {
   "cell_type": "markdown",
   "metadata": {},
   "source": [
    "We also see that the particle exhibits an oscillatory motion in all cases. In the first case ($v_0=$0.5m/s), it oscillates around one potential well around a stable equilibrium point at $x=d$. In the other two cases ($v_0=$1.5m/s,2.5m/s), the particle exhibits an periodic oscillatory motion around the unstable equilbrium point and across both potential wells at $x=\\pm d$. And the energy seems to be conserved in all three initial cases."
   ]
  },
  {
   "cell_type": "markdown",
   "metadata": {},
   "source": [
    "For $v_0=0.5$m/s, the motion looks like:"
   ]
  },
  {
   "cell_type": "markdown",
   "metadata": {},
   "source": [
    "![thumbnail_20200308_155318.jpg](Images/thumbnail_20200308_155318.jpg)"
   ]
  },
  {
   "cell_type": "markdown",
   "metadata": {},
   "source": [
    "For $v_0=1.5,2.5$m/s, the motion looks like:"
   ]
  },
  {
   "cell_type": "markdown",
   "metadata": {},
   "source": [
    "![thumbnail_20200308_155409.jpg](Images/thumbnail_20200308_155409.jpg)"
   ]
  },
  {
   "cell_type": "markdown",
   "metadata": {},
   "source": [
    "10. (5pt) Repeat the calculations with the full potential and all three initial conditions but now with a damping force $-\\beta v$. Find the modified acceleration using $\\beta/m=0.1$. Discuss your results and sketch again the motion in an energy diagram."
   ]
  },
  {
   "cell_type": "markdown",
   "metadata": {},
   "source": [
    "$$\n",
    "\\a(x) = \\frac{-\\frac{V_0}{d^4}(4x^3-4xd^2)}{m} \\ex - \\frac{\\beta}{m}\\v\n",
    "$$"
   ]
  },
  {
   "cell_type": "code",
   "execution_count": null,
   "metadata": {},
   "outputs": [],
   "source": [
    "def a_friction(r,v,t,m,V0,d,beta):\n",
    "    return -4*V0/m/d**4*(np.linalg.norm(r)**2 - d**2) * r - beta / m * v\n",
    "\n",
    "t = np.arange(0,30,0.001)\n",
    "\n",
    "x1, v1 = euler_cromer(a_friction,0.1,0.5,t,[1,1,0.1,0.1])\n",
    "x2, v2 = euler_cromer(a_friction,0.1,1.5,t,[1,1,0.1,0.1])\n",
    "x3, v3 = euler_cromer(a_friction,0.1,2.5,t,[1,1,0.1,0.1])\n",
    "\n",
    "import matplotlib.pyplot as plt\n",
    "%matplotlib inline\n",
    "\n",
    "fig, ax = plt.subplots(3,4,figsize=(15,15))\n",
    "ax[0,0].plot(t,x1)\n",
    "ax[0,0].set_title('x vs t for ec and v0 = 0.5 m/s')\n",
    "ax[0,1].plot(t,v1)\n",
    "ax[0,1].set_title('v vs t for ec and v0 = 0.5 m/s')\n",
    "ax[1,0].plot(t,x2)\n",
    "ax[1,0].set_title('x vs t for ec and v0 = 1.5 m/s')\n",
    "ax[1,1].plot(t,v2)\n",
    "ax[1,1].set_title('v vs t for ec and v0 = 1.5 m/s')\n",
    "ax[2,0].plot(t,x3)\n",
    "ax[2,0].set_title('x vs t for ec and v0 = 2.5 m/s')\n",
    "ax[2,1].plot(t,v3)\n",
    "ax[2,1].set_title('v vs t for ec and v0 = 2.5 m/s')\n",
    "\n",
    "x4, v4 = velocity_verlet(a_friction,0.1,0.5,t,[1,1,0.1,0.1])\n",
    "x5, v5 = velocity_verlet(a_friction,0.1,1.5,t,[1,1,0.1,0.1])\n",
    "x6, v6 = velocity_verlet(a_friction,0.1,2.5,t,[1,1,0.1,0.1])\n",
    "\n",
    "ax[0,2].plot(t,x4)\n",
    "ax[0,2].set_title('x vs t for vv and v0 = 0.5 m/s')\n",
    "ax[0,3].plot(t,v4)\n",
    "ax[0,3].set_title('v vs t for vv and v0 = 0.5 m/s')\n",
    "ax[1,2].plot(t,x5)\n",
    "ax[1,2].set_title('x vs t for vv and v0 = 1.5 m/s')\n",
    "ax[1,3].plot(t,v5)\n",
    "ax[1,3].set_title('v vs t for vv and v0 = 1.5 m/s')\n",
    "ax[2,2].plot(t,x6)\n",
    "ax[2,2].set_title('x vs t for vv and v0 = 2.5 m/s')\n",
    "ax[2,3].plot(t,v6)\n",
    "ax[2,3].set_title('v vs t for vv and v0 = 2.5 m/s')"
   ]
  },
  {
   "cell_type": "markdown",
   "metadata": {},
   "source": [
    "We see that in every case, energy decreases over time exponentially and eventually the motion becomes trapped into one potential well centered at $x=\\pm d$. There is practically no difference between the euler-cromer and velocty-verlet methods."
   ]
  },
  {
   "cell_type": "markdown",
   "metadata": {},
   "source": [
    "### Part 2, two dimensions\n",
    "\n",
    "We move then to two dimensions. Our particle/object interacts with a surface potential given by"
   ]
  },
  {
   "cell_type": "markdown",
   "metadata": {},
   "source": [
    "$$\n",
    "V(r)=\\frac{V_0}{d^4}\\left(r^4-2r^2d^2+d^4\\right),\n",
    "$$"
   ]
  },
  {
   "cell_type": "markdown",
   "metadata": {},
   "source": [
    "where $r=\\sqrt{x^2+y^2}$ is the distance to the origin.\n",
    "\n",
    "1. (5pt) Show that the acceleration is now $\\boldsymbol{a}=-\\frac{4V_0}{md^4}\\left(r^3-rd^2\\right)\\frac{\\boldsymbol{r}}{r}$."
   ]
  },
  {
   "cell_type": "markdown",
   "metadata": {},
   "source": [
    "$$\n",
    "\\begal\n",
    "\\a = \\F \\over{m} & = -\\over{m}\\grad V\n",
    "\\\\ & = -\\over{m}\\ddr{V}\\grad{\\r}\n",
    "\\\\ & = -\\over{m}\\ddr{\\lb \\frac{V_0}{d^4} \\lp r^4 - 2r^2d^2 + d^4 \\rp \\rb}\\grad{\\r}\n",
    "\\\\ & = - \\over{m}V_0 \\over{d^4} \\lp 4r^3 - 4rd^2 \\rp \\grad{\\r}\n",
    "\\\\ & = - \\frac{4 V_0}{m d^4}\\lp r^3 - r d^2 \\rp \\grad{\\r}\n",
    "\\\\ & = - \\frac{4 V_0}{m d^4}\\lp r^3 - r d^2 \\rp \\lp \\delcartesian{} \\rp {\\lp \\rabs \\rp}\n",
    "\\\\ & = - \\frac{4 V_0}{m d^4}\\lp r^3 - r d^2 \\rp \\frac{2 \\lp \\rvec \\rp}{2 \\lp \\rabs \\rp}\n",
    "\\\\ & = - \\frac{4 V_0}{m d^4}\\lp r^3 - r d^2 \\rp \\frac{\\r}{r}\n",
    "\\endal\n",
    "$$"
   ]
  },
  {
   "cell_type": "markdown",
   "metadata": {},
   "source": [
    "2. (10pt) Rewrite your program to find the velocity and position of the atom using the new expression for the force $\\boldsymbol{F}$. Use vectorized expressions in your code as you did in homework 4 for the Earth-Sun system. See eventually the code from the [lectures](https://mhjensen.github.io/Physics321/doc/pub/energyconserv/html/energyconserv.html).  We recommend to revisit the Earth-Sun problem from homework 4 since it has several similarities with the problem here."
   ]
  },
  {
   "cell_type": "markdown",
   "metadata": {},
   "source": [
    "The way the functions were initially written, they work in any dimension."
   ]
  },
  {
   "cell_type": "code",
   "execution_count": null,
   "metadata": {},
   "outputs": [],
   "source": [
    "def euler_cromer(a,x0,v0,t,args):\n",
    "    if type(x0) != list:\n",
    "        x = np.zeros(len(t))\n",
    "        x[0] = x0\n",
    "        v = np.zeros(len(t))\n",
    "        v[0] = v0\n",
    "    else:\n",
    "        x = np.zeros((len(t),len(x0)))\n",
    "        x[0] = x0\n",
    "        v = np.zeros((len(t),len(x0)))\n",
    "        v[0] = v0\n",
    "    for i in range(len(t)-1):\n",
    "        DeltaT = t[i+1]-t[i]\n",
    "        v[i+1]=v[i]+a(x[i],v[i],t[i],*args)*DeltaT\n",
    "        x[i+1]=x[i] + v[i+1] * DeltaT\n",
    "    return x, v\n",
    "\n",
    "def velocity_verlet(a,x0,v0,t,args):\n",
    "    if type(x0) != list:\n",
    "        x = np.zeros(len(t))\n",
    "        x[0] = x0\n",
    "        v = np.zeros(len(t))\n",
    "        v[0] = v0\n",
    "    else:\n",
    "        x = np.zeros((len(t),len(x0)))\n",
    "        x[0] = x0\n",
    "        v = np.zeros((len(t),len(x0)))\n",
    "        v[0] = v0\n",
    "    for i in range(len(t)-1):\n",
    "        DeltaT = t[i+1]-t[i]\n",
    "        x[i+1]=x[i] + v[i] * DeltaT + 0.5 * a(x[i],v[i],t[i],*args) * DeltaT**2\n",
    "        v[i+1]=v[i] + 0.5 * (a(x[i],v[i],t[i],*args)+a(x[i+1],v[i],t[i+1],*args))*DeltaT\n",
    "    return x, v\n",
    "\n",
    "t = np.arange(0,30,0.001)\n",
    "r, v = velocity_verlet(a,[0.1,0],[0,10.56],t,[1,1,0.1])\n",
    "\n",
    "fig, ax = plt.subplots(1,1,figsize = (6,6))\n",
    "ax.plot(r[:,0],r[:,1])"
   ]
  },
  {
   "cell_type": "markdown",
   "metadata": {},
   "source": [
    "3. (10pt) Plot the motion of a particle starting in $\\boldsymbol{r}_0=(d,0)$ from $t=0$ s to $t=20$ s for the initial velocities $\\boldsymbol{v}_0=(0,0.5)$ m/s, $\\boldsymbol{v}_0=(0,1)$ m/s, and $\\boldsymbol{v}_0=(0,1.5)$ m/s. The parameters $d$ and $V_0$ are as before."
   ]
  },
  {
   "cell_type": "code",
   "execution_count": null,
   "metadata": {},
   "outputs": [],
   "source": [
    "t = np.arange(0,20,0.001)\n",
    "r1, v1 = velocity_verlet(a,[0.1,0],[0,0.5],t,[1,1,0.1])\n",
    "r2, v2 = velocity_verlet(a,[0.1,0],[0,1],t,[1,1,0.1])\n",
    "r3, v3 = velocity_verlet(a,[0.1,0],[0,1.5],t,[1,1,0.1])\n",
    "\n",
    "fig, ax = plt.subplots(1,3,figsize = (18,6))\n",
    "ax[0].plot(r1[:,0],r1[:,1])\n",
    "ax[0].set_title('motion in 2-d space for v0=0.5 m/s')\n",
    "ax[1].plot(r2[:,0],r2[:,1])\n",
    "ax[1].set_title('motion in 2-d space for v0=0.5 m/s')\n",
    "ax[2].plot(r3[:,0],r3[:,1])\n",
    "ax[2].set_title('motion in 2-d space for v0=0.5 m/s')"
   ]
  },
  {
   "cell_type": "markdown",
   "metadata": {},
   "source": [
    "4. (10pt) Is energy conserved?"
   ]
  },
  {
   "cell_type": "code",
   "execution_count": null,
   "metadata": {},
   "outputs": [],
   "source": [
    "m = 1\n",
    "V0 = 1\n",
    "d = 0.1\n",
    "\n",
    "t = np.arange(0,20,0.001)\n",
    "r1, v1 = velocity_verlet(a,[0.1,0],[0,0.5],t,[1,1,0.1])\n",
    "r2, v2 = velocity_verlet(a,[0.1,0],[0,1],t,[1,1,0.1])\n",
    "r3, v3 = velocity_verlet(a,[0.1,0],[0,1.5],t,[1,1,0.1])\n",
    "\n",
    "def absarray(r):\n",
    "    l, w = np.shape(r)\n",
    "    rnew = np.zeros(l)\n",
    "    for i in range(0,l):\n",
    "        rnew[i] = np.linalg.norm(r[i,:])\n",
    "    return rnew\n",
    "\n",
    "r1abs = absarray(r1)\n",
    "r2abs = absarray(r2)\n",
    "r3abs = absarray(r3)\n",
    "\n",
    "v1abs = absarray(v1)\n",
    "v2abs = absarray(v2)\n",
    "v3abs = absarray(v3)\n",
    "\n",
    "E1 = 1/2 * m * v1abs**2 + V0/d**4*(r1abs**4 - 2 * r1abs**2 * d**2 + d**4)\n",
    "E2 = 1/2 * m * v2abs**2 + V0/d**4*(r2abs**4 - 2 * r2abs**2 * d**2 + d**4)\n",
    "E3 = 1/2 * m * v3abs**2 + V0/d**4*(r3abs**4 - 2 * r3abs**2 * d**2 + d**4)\n",
    "\n",
    "fig, ax = plt.subplots(1,3,figsize = (18,6),sharey = True)\n",
    "ax[0].plot(t,E1)\n",
    "ax[0].set_title('E vs t for v0=0.5 m/s')\n",
    "ax[1].plot(t,E2)\n",
    "ax[1].set_title('E vs t for v0=1.0 m/s')\n",
    "ax[2].plot(t,E3)\n",
    "ax[2].set_title('E vs t for v0=1.5 m/s')"
   ]
  },
  {
   "cell_type": "markdown",
   "metadata": {},
   "source": [
    "It is conserved"
   ]
  },
  {
   "cell_type": "markdown",
   "metadata": {},
   "source": [
    "5. (10pt) Can you choose initial conditions $r_0$ and $v_0$ in such a manner that the particle moves in a circular orbit with a constant radius? If so, what initial conditions are those? Plot the motion for these conditions."
   ]
  },
  {
   "cell_type": "markdown",
   "metadata": {},
   "source": [
    "From the centriputal force, we have (for a velocity perpendicular to the radius vector)\n",
    "\n",
    "$$\n",
    "\\begal\n",
    "\\frac{v^2}{r}\\frac{\\r}{r} & = \\frac{4 V_0}{m d^4}\\lp r^3 - r d^2 \\rp \\frac{\\r}{r}\n",
    "\\\\ v^2 & = \\frac{4 V_0}{m d^4}\\lp r^4 - r^2d^2 \\rp\n",
    "\\\\ v_0 & = \\sqrt{\\frac{4 V_0}{m d^4}\\lp r_0^4 - r_0^2d^2 \\rp} \\text{ for } r_0 \\neq d\n",
    "\\endal\n",
    "$$"
   ]
  },
  {
   "cell_type": "code",
   "execution_count": null,
   "metadata": {},
   "outputs": [],
   "source": [
    "t = np.arange(0,20,0.001)\n",
    "V0 = 1\n",
    "m = 1\n",
    "d = 0.1\n",
    "r0 = [2*d,0]\n",
    "\n",
    "v0 = [0,np.sqrt(4*V0/m/d**4 * (16*d**4 - 4*d**4))]\n",
    "\n",
    "r, v = velocity_verlet(a,r0,v0,t,[V0,m,d])\n",
    "\n",
    "fig, ax = plt.subplots(1,1,figsize = (6,6))\n",
    "ax.plot(r[:,0],r[:,1])\n",
    "ax.set_title('circular motion according to theoretical result')"
   ]
  },
  {
   "cell_type": "markdown",
   "metadata": {},
   "source": [
    "### Part 3, Bonus part (30pt)\n",
    "\n",
    "This part requires that you implement the Runge-Kutta to fourth-order algorithm for solving the differential equations.\n",
    "This is discussed in detail in the [lecture notes on harmonic oscillations](https://mhjensen.github.io/Physics321/doc/pub/harmonic/html/harmonic.html).\n",
    "\n",
    "We will focus only on the one-dimensional problem from part 1. That is we use the potential for motion in one dimension only.\n",
    "\n",
    "We use the same initial conditions and parameter values to find the position and velocity of the particle as function of time from $t=0$ to $t=30$ s using a mass  $m=1.0$ kg, the parameter $V_0=1$ J and $d=0.1$ m.  The  initial conditions are $x_0=d$ and $v_0=0.5$ m/s, $x_0=d$ and $v_0=1.5$ m/s, and $x_0=d$ and $v_0=2.5$ m/s. We include a damping term\n",
    "$-\\beta v$ using $\\beta/m=0.1$.\n",
    "\n",
    "Add a periodic driving force $F(t)=F_0\\cos{(\\omega t)}$  to your equation and find the new acceleration. Can you tune\n",
    "$\\omega$ and $F_0$ so that the particle exhibits stable oscillations in one well only and in both wells as well?\n",
    "\n",
    "Study the stability of your differential equations as function of the Runge-Kutta 4 method compared with the Euler-Cromer method. Vary also the step size and study the differences between the two methods. Comment your results."
   ]
  },
  {
   "cell_type": "code",
   "execution_count": null,
   "metadata": {},
   "outputs": [],
   "source": [
    "def runge_kutta4(a,x0,v0,t,args):\n",
    "    if type(x0) != list:\n",
    "        x = np.zeros(len(t))\n",
    "        x[0] = x0\n",
    "        v = np.zeros(len(t))\n",
    "        v[0] = v0\n",
    "    else:\n",
    "        x = np.zeros((len(t),len(x0)))\n",
    "        x[0] = x0\n",
    "        v = np.zeros((len(t),len(x0)))\n",
    "        v[0] = v0\n",
    "    for i in range(len(t)-1):\n",
    "        DeltaT = t[i+1]-t[i]\n",
    "        # Setting up k1\n",
    "        k1x = DeltaT*v[i]\n",
    "        k1v = DeltaT*a(x[i],v[i],t[i],*args)\n",
    "        # Setting up k2\n",
    "        vv = v[i]+k1v*0.5\n",
    "        xx = x[i]+k1x*0.5\n",
    "        k2x = DeltaT*vv\n",
    "        k2v = DeltaT*a(xx,vv,t[i] + DeltaT*0.5, *args)\n",
    "        # Setting up k3\n",
    "        vv = v[i]+k2v*0.5\n",
    "        xx = x[i]+k2x*0.5\n",
    "        k3x = DeltaT*vv\n",
    "        k3v = DeltaT*a(xx,vv,t[i] + DeltaT*0.5, *args)\n",
    "        # Setting up k4\n",
    "        vv = v[i]+k3v\n",
    "        xx = x[i]+k3x\n",
    "        k4x = DeltaT*vv\n",
    "        k4v = DeltaT*a(xx,vv,t[i] + DeltaT*0.5, *args)\n",
    "        # Final result\n",
    "        x[i+1] = x[i]+(k1x+2*k2x+2*k3x+k4x)/6 \n",
    "        v[i+1] = v[i]+(k1v+2*k2v+2*k3v+k4v)/6\n",
    "    return x, v\n",
    "\n",
    "def a_driven(r,v,t,m,V0,d,beta,F0,omega):\n",
    "    return -4*V0/m/d**4*(np.linalg.norm(r)**2 - d**2) * r - beta / m * v + F0/m * np.cos(omega*t)"
   ]
  },
  {
   "cell_type": "markdown",
   "metadata": {},
   "source": [
    "## Stability\n",
    "\n",
    "First, let's look at the stability of the methods for different timesteps.\n",
    "\n",
    "#### 1st Method\n",
    "\n",
    "For each of the 3 initial conditions, without a driving force, we will examine the position and the energy as a function of time."
   ]
  },
  {
   "cell_type": "code",
   "execution_count": null,
   "metadata": {},
   "outputs": [],
   "source": [
    "m = 1\n",
    "V0 = 1\n",
    "d = 0.1\n",
    "beta = 0.1 * m\n",
    "x0 = d\n",
    "v_list = [0.5,1,1.5]\n",
    "DeltaT_list = [0.1,0.03,0.01,0.003]\n",
    "\n",
    "fig, ax = plt.subplots(8,4,figsize = (18,18))\n",
    "\n",
    "F0 = 0\n",
    "omega = 0\n",
    "for i in range(0,4):\n",
    "    for j in range(0,4):\n",
    "        DeltaT = DeltaT_list[i%4]\n",
    "        t = np.arange(0,30,DeltaT)\n",
    "        v0 = v_list[int((j-j%2)/2)]\n",
    "        if j%2 == 0:\n",
    "            x, v = euler_cromer(a_driven,x0,v0,t,[m,V0,d,beta,F0,omega])\n",
    "            ax[2*i,j].plot(t,x)\n",
    "            ax[2*i,j].set_title(r'$x$ vs $t$: ec method, $v_0$='+str(v0)+r', $\\Delta t$='+str(DeltaT))\n",
    "            E = 1/2 * m * v**2 + V0/d**4*(x**4 - 2 * x**2 * d**2 + d**4)\n",
    "            ax[2*i+1,j].plot(t,E)\n",
    "            ax[2*i+1,j].set_title(r'$E$ vs $t$: ec method, $v_0$='+str(v0)+r', $\\Delta t$='+str(DeltaT))\n",
    "        else:\n",
    "            x, v = runge_kutta4(a_driven,x0,v0,t,[m,V0,d,beta,F0,omega])\n",
    "            ax[2*i,j].plot(t,x)\n",
    "            ax[2*i,j].set_title(r'$x$ vs $t$: rk4 method, $v_0$='+str(v0)+r' $\\Delta t$ ='+str(DeltaT))\n",
    "            E = 1/2 * m * v**2 + V0/d**4*(x**4 - 2 * x**2 * d**2 + d**4)\n",
    "            ax[2*i+1,j].plot(t,E)\n",
    "            ax[2*i+1,j].set_title(r'$E$ vs $t$: rk4 method, $v_0$='+str(v0)+r', $\\Delta t$='+str(DeltaT))\n",
    "plt.tight_layout()"
   ]
  },
  {
   "cell_type": "markdown",
   "metadata": {},
   "source": [
    "#### 2nd Method\n",
    "\n",
    "We will compute a result for a very small timestep of 0.0001 seconds for both the euler-cromer and the runge-kutta 4th order methods. This will serve as a benchmark for each method. Then, we will look at how fast each method converges to this result for different timesteps based on the deviation of position from the benchmark. We will call this quantity $\\Delta x$. This should be an objective indicator of how quickly both methods improve with decreasing timesteps."
   ]
  },
  {
   "cell_type": "code",
   "execution_count": null,
   "metadata": {},
   "outputs": [],
   "source": [
    "m = 1\n",
    "V0 = 1\n",
    "d = 0.1\n",
    "beta = 0.1 * m\n",
    "x0 = d\n",
    "v0_list = [0.5,1,1.5]\n",
    "\n",
    "fig, ax = plt.subplots(3,6,figsize = (18,9))\n",
    "\n",
    "F0 = 0\n",
    "omega = 0\n",
    "\n",
    "t_benchmark = np.arange(0,30,0.0005)\n",
    "DeltaT_list = [0.0625,0.0125,0.0025]\n",
    "\n",
    "for j in range(0,3):\n",
    "    v0 = v0_list[j]\n",
    "    x_benchmark_ec, v_benchmark_ec = euler_cromer(a_driven,x0,v0,t_benchmark,[m,V0,d,beta,F0,omega])\n",
    "    x_benchmark_rk4, v_benchmark_rk4 = runge_kutta4(a_driven,x0,v0,t_benchmark,[m,V0,d,beta,F0,omega])\n",
    "    for i in range(0,3):\n",
    "        t = np.arange(0,30,DeltaT_list[i])\n",
    "        \n",
    "        x_ec, v_ec = euler_cromer(a_driven,x0,v0,t,[m,V0,d,beta,F0,omega])\n",
    "        x_rk4, v_rk4 = runge_kutta4(a_driven,x0,v0,t,[m,V0,d,beta,F0,omega])\n",
    "        \n",
    "        multiple = int(len(x_benchmark_ec)/len(x_ec))\n",
    "        \n",
    "        deletion_array = np.arange(0, x_benchmark_ec.size, 1)\n",
    "        deletion_array = np.delete(deletion_array, np.arange(0, x_benchmark_ec.size, multiple))\n",
    "        \n",
    "        x_benchmark_ec_shrunk = np.delete(x_benchmark_ec, deletion_array)\n",
    "        x_benchmark_rk4_shrunk = np.delete(x_benchmark_rk4, deletion_array)\n",
    "        \n",
    "        ax[i,2*j].plot(t,x_ec-x_benchmark_ec_shrunk)\n",
    "        ax[i,2*j].set_title(r'ec, $\\Delta t=$'+str(DeltaT_list[i])+r', $v_0 =$'+str(v0),y=1.08)\n",
    "        ax[i,2*j].set_ylabel(r'$\\Delta x$')\n",
    "        ax[i,2*j].set_xlabel(r'$t$')\n",
    "        ax[i,2*j+1].plot(t,x_rk4-x_benchmark_rk4_shrunk)\n",
    "        ax[i,2*j+1].set_title(r'rk4, $\\Delta t=$'+str(DeltaT_list[i])+r', $v_0 =$'+str(v0),y=1.08)\n",
    "        ax[i,2*j+1].set_ylabel(r'$\\Delta x$')\n",
    "        ax[i,2*j+1].set_xlabel(r'$t$')\n",
    "        \n",
    "plt.tight_layout()"
   ]
  },
  {
   "cell_type": "markdown",
   "metadata": {},
   "source": [
    "### Conclusion\n",
    "\n",
    "We see that the motion is unstable for large timesteps for both the runge-kutta and the euler-cromer method. We also see that when the motion is stable, the runge-kutta method actually does a better job at keeping energy smooth than the euler-cromer method: hence, it is more stable and accurate. For these reasons, we conclude that the runge-kutta method is more stable and accurate than the euler-cromer method.\n",
    "\n",
    "However, it must be noted that the runge-kutta method does worse in the case of $\\Delta t = 0.03$s: the motion dies out prematurely. Additionally, for $\\Delta t = 0.1$s, the euler-cromer method leads to a smaller divergence in the value of the energy for $v_0=0.5$m/s. This means that the runge-kutta method isn't better for every timestep. It only surpasses the euler-cromer method for smaller timesteps.\n",
    "\n",
    "Additionally, we see that the runge-kutta method to the 4th order converges faster than the euler-cromer method based. This is another objective criterion we use to conclude that the runge-kutta method to the 4th order is more accurate and stable than the euler-cromer method.\n",
    "\n",
    "Given these reasons, we will rely on the runge-kutta to the 4th order method from this point onwards."
   ]
  },
  {
   "cell_type": "markdown",
   "metadata": {},
   "source": [
    "## Driving Force\n",
    "\n",
    "For this part, we will proceed with only the runge-kutta method after having established its increased stability and accuracy. We will try several different $F_0$ and $\\omega$ parameters starting from two initial conditions: $v_0=0.5$m/s and $v_0=1.5$m/s which would normally correspond to one-well and two-well motion respectively if friction were not included. Future work could consider a larger variety of initial conditions.\n",
    "\n",
    "With regards to accuracy, we will use the timestep of $\\Delta t = 0.005$s as we have already seen from the graphs above that this timestep doesn't lead to a divergence in position of more than $10^{-4}$m compared to a timestep 5 times smaller. That is why we conclude that a timestep of 0.0025 seconds should be accurate enough for our purposes. Also, we will observe the motion for 90 seconds rather than 30 to give it more time to stabilize into autonomous oscillations."
   ]
  },
  {
   "cell_type": "code",
   "execution_count": null,
   "metadata": {},
   "outputs": [],
   "source": [
    "m = 1\n",
    "V0 = 1\n",
    "d = 0.1\n",
    "beta = 0.1 * m\n",
    "x0 = d\n",
    "v0_list = [0.5,1.5]\n",
    "F0_list = [6,12,24]\n",
    "omega_list = [0.05,0.15,0.45]\n",
    "\n",
    "fig, ax = plt.subplots(3,6,figsize = (18,9))\n",
    "\n",
    "F0 = 0\n",
    "omega = 0\n",
    "\n",
    "t = np.arange(0,90,0.0025)\n",
    "\n",
    "for i in range(0,6):\n",
    "    if i < 3:\n",
    "        v0 = 0.5\n",
    "    else:\n",
    "        v0 = 1.5\n",
    "    for j in range(0,3):\n",
    "        F0 = F0_list[i%3]\n",
    "        omega = omega_list[j%3]\n",
    "        x, v = runge_kutta4(a_driven,x0,v0,t,[m,V0,d,beta,F0,omega])\n",
    "        ax[j,i].plot(t,x)\n",
    "        ax[j,i].set_title(r'$F_0=$'+str(F0)+r', $\\omega=$'+str(omega)+r', $v_0=$'+str(v0))\n",
    "        ax[j,i].set_ylabel(r'$x$')\n",
    "        ax[j,i].set_xlabel(r'$t$')\n",
    "        \n",
    "plt.tight_layout()"
   ]
  },
  {
   "cell_type": "markdown",
   "metadata": {},
   "source": [
    "From the results above, we see that a larger initial energy actually does affect the amplitude and shape of the oscillations. However, it doesn't affect whether or not oscillations happen within 90 seconds (at least in the cases we have examined). So we will focus on only one initial condition $v_0=1.0$m/s from now on. The choice is arbitrary as far as we can tell. And 1 m/s is the average of the two initial velocities tried above. Hence, it is a natural middle fround between the two cases."
   ]
  },
  {
   "cell_type": "code",
   "execution_count": null,
   "metadata": {},
   "outputs": [],
   "source": [
    "m = 1\n",
    "V0 = 1\n",
    "d = 0.1\n",
    "beta = 0.1 * m\n",
    "x0 = d\n",
    "v0 = 1\n",
    "v0_list = [0.5,1.5]\n",
    "F0_list = [6,12,24]\n",
    "omega_list = [0.05,0.1,0.2,0.3,0.4,0.6]\n",
    "\n",
    "fig, ax = plt.subplots(3,6,figsize = (18,9))\n",
    "\n",
    "F0 = 0\n",
    "omega = 0\n",
    "\n",
    "t = np.arange(0,90,0.0025)\n",
    "\n",
    "for i in range(0,6):\n",
    "    for j in range(0,3):\n",
    "        F0 = F0_list[j]\n",
    "        omega = omega_list[i]\n",
    "        x, v = runge_kutta4(a_driven,x0,v0,t,[m,V0,d,beta,F0,omega])\n",
    "        ax[j,i].plot(t,x)\n",
    "        ax[j,i].set_title(r'$F_0=$'+str(F0)+r', $\\omega=$'+str(omega)+r', $v_0=$'+str(v0))\n",
    "        ax[j,i].set_ylabel(r'$x$')\n",
    "        ax[j,i].set_xlabel(r'$t$')\n",
    "        \n",
    "plt.tight_layout()"
   ]
  },
  {
   "cell_type": "markdown",
   "metadata": {},
   "source": [
    "We see from the results above that a larger $F_0$ and a larger $\\omega$ encourages oscillations. However, the oscillations die out after a while for large $\\omega$. Let's examine this in a bit more detail around the critical case of $F_0=12$, $\\omega=0.5$"
   ]
  },
  {
   "cell_type": "code",
   "execution_count": null,
   "metadata": {},
   "outputs": [],
   "source": [
    "m = 1\n",
    "V0 = 1\n",
    "d = 0.1\n",
    "beta = 0.1 * m\n",
    "x0 = d\n",
    "v0=1\n",
    "v0_list = [0.5,1.5]\n",
    "F0_list = [9,10.5,12,13.5,15]\n",
    "omega_list = [0.3,0.45,0.6,0.8,1.1,1.5]\n",
    "\n",
    "fig, ax = plt.subplots(5,6,figsize = (18,12))\n",
    "\n",
    "F0 = 0\n",
    "omega = 0\n",
    "\n",
    "t = np.arange(0,90,0.0025)\n",
    "\n",
    "for i in range(0,6):\n",
    "    for j in range(0,5):\n",
    "        F0 = F0_list[j]\n",
    "        omega = omega_list[i]\n",
    "        x, v = runge_kutta4(a_driven,x0,v0,t,[m,V0,d,beta,F0,omega])\n",
    "        ax[j,i].plot(t,x)\n",
    "        ax[j,i].set_title(r'$F_0=$'+str(F0)+r', $\\omega=$'+str(omega)+r', $v_0=$'+str(v0))\n",
    "        ax[j,i].set_ylabel(r'$x$')\n",
    "        ax[j,i].set_xlabel(r'$t$')\n",
    "        \n",
    "plt.tight_layout()"
   ]
  },
  {
   "cell_type": "markdown",
   "metadata": {},
   "source": [
    "We see that the oscillations seem to be nonexistent for $F_0<10$N and always existent for $F_0>14$N for $0.3<\\omega<1.5$rad/s and $0<t<90$s.\n",
    "\n",
    "Let's now look at the motion on a larger timescale in the critical range of $0.6 < \\omega < 2$rad/s."
   ]
  },
  {
   "cell_type": "code",
   "execution_count": null,
   "metadata": {},
   "outputs": [],
   "source": [
    "m = 1\n",
    "V0 = 1\n",
    "d = 0.1\n",
    "beta = 0.1 * m\n",
    "x0 = d\n",
    "v0=1\n",
    "v0_list = [0.5,1.5]\n",
    "F0_list = [10.5,12,13.5]\n",
    "omega_list = [0.8,1.0,1.2,1.4,1.6,1.8]\n",
    "\n",
    "fig, ax = plt.subplots(3,6,figsize = (18,12))\n",
    "\n",
    "F0 = 0\n",
    "omega = 0\n",
    "\n",
    "t = np.arange(0,180,0.0025)\n",
    "\n",
    "for i in range(0,6):\n",
    "    for j in range(0,3):\n",
    "        F0 = F0_list[j]\n",
    "        omega = omega_list[i]\n",
    "        x, v = runge_kutta4(a_driven,x0,v0,t,[m,V0,d,beta,F0,omega])\n",
    "        ax[j,i].plot(t,x)\n",
    "        ax[j,i].set_title(r'$F_0=$'+str(F0)+r', $\\omega=$'+str(omega)+r', $v_0=$'+str(v0))\n",
    "        ax[j,i].set_ylabel(r'$x$')\n",
    "        ax[j,i].set_xlabel(r'$t$')\n",
    "        \n",
    "plt.tight_layout()"
   ]
  },
  {
   "cell_type": "markdown",
   "metadata": {},
   "source": [
    "Let's now look at $F_0=10.5,12$ and $1.2<\\omega<2.4$"
   ]
  },
  {
   "cell_type": "code",
   "execution_count": null,
   "metadata": {},
   "outputs": [],
   "source": [
    "m = 1\n",
    "V0 = 1\n",
    "d = 0.1\n",
    "beta = 0.1 * m\n",
    "x0 = d\n",
    "v0=1\n",
    "v0_list = [0.5,1.5]\n",
    "F0_list = [10.5,12]\n",
    "omega_list = [1.4,1.6,1.8,2.0,2.2]\n",
    "\n",
    "fig, ax = plt.subplots(2,5,figsize = (18,12))\n",
    "\n",
    "F0 = 0\n",
    "omega = 0\n",
    "\n",
    "t = np.arange(0,180,0.0025)\n",
    "\n",
    "for i in range(0,5):\n",
    "    for j in range(0,2):\n",
    "        F0 = F0_list[j]\n",
    "        omega = omega_list[i]\n",
    "        x, v = runge_kutta4(a_driven,x0,v0,t,[m,V0,d,beta,F0,omega])\n",
    "        ax[j,i].plot(t,x)\n",
    "        ax[j,i].set_title(r'$F_0=$'+str(F0)+r', $\\omega=$'+str(omega)+r', $v_0=$'+str(v0))\n",
    "        ax[j,i].set_ylabel(r'$x$')\n",
    "        ax[j,i].set_xlabel(r'$t$')\n",
    "        \n",
    "plt.tight_layout()"
   ]
  },
  {
   "cell_type": "markdown",
   "metadata": {},
   "source": [
    "And finally,let's look at the motion for larger $\\omega$:"
   ]
  },
  {
   "cell_type": "code",
   "execution_count": null,
   "metadata": {},
   "outputs": [],
   "source": [
    "m = 1\n",
    "V0 = 1\n",
    "d = 0.1\n",
    "beta = 0.1 * m\n",
    "x0 = d\n",
    "v0=1\n",
    "v0_list = [0.5,1.5]\n",
    "F0_list = [12,13.5]\n",
    "omega_list = [1.4,1.8,2.4,3.2,5.0,10.0]\n",
    "\n",
    "fig, ax = plt.subplots(2,6,figsize = (18,12))\n",
    "\n",
    "F0 = 0\n",
    "omega = 0\n",
    "\n",
    "t = np.arange(0,180,0.0025)\n",
    "\n",
    "for i in range(0,6):\n",
    "    for j in range(0,2):\n",
    "        F0 = F0_list[j]\n",
    "        omega = omega_list[i]\n",
    "        x, v = runge_kutta4(a_driven,x0,v0,t,[m,V0,d,beta,F0,omega])\n",
    "        ax[j,i].plot(t,x)\n",
    "        ax[j,i].set_title(r'$F_0=$'+str(F0)+r', $\\omega=$'+str(omega)+r', $v_0=$'+str(v0))\n",
    "        ax[j,i].set_ylabel(r'$x$')\n",
    "        ax[j,i].set_xlabel(r'$t$')\n",
    "        \n",
    "plt.tight_layout()"
   ]
  },
  {
   "cell_type": "code",
   "execution_count": null,
   "metadata": {},
   "outputs": [],
   "source": [
    "m = 1\n",
    "V0 = 1\n",
    "d = 0.1\n",
    "beta = 0.1 * m\n",
    "x0 = d\n",
    "v0=1\n",
    "v0_list = [0.5,1.5]\n",
    "F0 = 13.5\n",
    "omega_list = [1,3,6,10,18,30]\n",
    "\n",
    "fig, ax = plt.subplots(2,3,figsize = (18,12))\n",
    "\n",
    "omega = 0\n",
    "\n",
    "t = np.arange(0,180,0.0025)\n",
    "\n",
    "for i in range(0,3):\n",
    "    for j in range(0,2):\n",
    "        omega = omega_list[i + 3*j]\n",
    "        x, v = runge_kutta4(a_driven,x0,v0,t,[m,V0,d,beta,F0,omega])\n",
    "        ax[j,i].plot(t,x)\n",
    "        ax[j,i].set_title(r'$F_0=$'+str(F0)+r', $\\omega=$'+str(omega)+r', $v_0=$'+str(v0))\n",
    "        ax[j,i].set_ylabel(r'$x$')\n",
    "        ax[j,i].set_xlabel(r'$t$')\n",
    "        \n",
    "plt.tight_layout()"
   ]
  },
  {
   "cell_type": "markdown",
   "metadata": {},
   "source": [
    "## Conclusion\n",
    "\n",
    "The problem of what conditions favor an oscillation are nontrivial and bizzare. It seems that $13\\lesssim F_0$N and $1 \\lesssim \\omega \\lesssim 20 $rad/s are roughly the right conditions for oscillatory motion. But some oscillatory motions seem to die out randomly and initial conditions seem to also play a role. So our results are inconclusive and further investigation needs to be done to examine the middling cases in the region $11 \\lesssim F_0 14$. However, we know that oscillatory motion doesn't exist below around $12$N and we know that it doesn't exist outside a range of about $1 \\lesssim \\omega \\lesssim 50 $rad/s. "
   ]
  },
  {
   "cell_type": "markdown",
   "metadata": {},
   "source": [
    "### Part 4, Additional Bonus part, Analytical solution of anharmonic oscillator (60pt)\n",
    "\n",
    "The anharmonic-oscillator equation with dissipation has been widely used in various areas of science,\n",
    "and surprisingly little has been known about its analytical solutions.\n",
    "\n",
    "The differential equation (in one dimension) is similar to the one we have studied in part 1.\n",
    "The potential we started with"
   ]
  },
  {
   "cell_type": "markdown",
   "metadata": {},
   "source": [
    "$$\n",
    "V(x)=\\frac{V_0}{d^4}\\left(x^4-2x^2d^2+d^4\\right),\n",
    "$$"
   ]
  },
  {
   "cell_type": "markdown",
   "metadata": {},
   "source": [
    "results in a force"
   ]
  },
  {
   "cell_type": "markdown",
   "metadata": {},
   "source": [
    "$$\n",
    "F(x)=-\\frac{dV}{dx}=\\frac{4V_0}{d^4}\\left(x^3-xd^2\\right).\n",
    "$$"
   ]
  },
  {
   "cell_type": "markdown",
   "metadata": {},
   "source": [
    "We could write this force in a more general way adding an $x^2$ term as"
   ]
  },
  {
   "cell_type": "markdown",
   "metadata": {},
   "source": [
    "$$\n",
    "F(x)=Ax+Bx^2+Cx^3.\n",
    "$$"
   ]
  },
  {
   "cell_type": "markdown",
   "metadata": {},
   "source": [
    "Our specific force does not have the $x^2$ term, which means we can set $B=0$.\n",
    "The general differential equation with a drift/dissipation term is then"
   ]
  },
  {
   "cell_type": "markdown",
   "metadata": {},
   "source": [
    "$$\n",
    "m\\frac{d^2x}{dt^2}+b\\frac{dx}{dt}=Ax+Bx^2+Cx^3.\n",
    "$$"
   ]
  },
  {
   "cell_type": "markdown",
   "metadata": {},
   "source": [
    "Dividing by $m$ and introducing new constants we have a differential equation"
   ]
  },
  {
   "cell_type": "markdown",
   "metadata": {},
   "source": [
    "$$\n",
    "\\frac{d^2x}{dt^2}+\\gamma\\frac{dx}{dt}=\\alpha x+\\beta x^2+\\delta x^3,\n",
    "$$"
   ]
  },
  {
   "cell_type": "markdown",
   "metadata": {},
   "source": [
    "with $\\gamma=b/m$, $\\alpha=A/m$, $\\beta=B/m$ and $\\delta=C/m$.\n",
    "Numerically, as we have seen, it is almost trivial to solve these equations by simply adding different terms to the definition of the acceleration.\n",
    "\n",
    "This part is meant more as a mathematical challenge if you feel tempted. It is a very interesting field, with connections to chaotic motion and much more. It requires some research from your side to find the analytical solution.  Your task here is to find the analytical solution and if time allows, compare with numerical studies. \n",
    "The following reference can help here\n",
    "1. [Dixon et al, Physical Review A 44, 3484 (1991)](https://journals.aps.org/pra/pdf/10.1103/PhysRevA.44.3484)"
   ]
  },
  {
   "cell_type": "markdown",
   "metadata": {},
   "source": [
    "### Plan for Analytic Solution\n",
    "\n",
    "With the friction term, this equation is very complicated. So a full solution including the drag force will not be given here. However, we will give an analytical solution to this equation without the friction term, using a method of integration based on the energy of a particle which is a conserved constant. We will set up the integral for the particle's position. And then, we will use Wolfram Alpha to solve the integral (as we will see, solving this integral by hand is too time-consuming to be carried out and we do not claim to have done so). During the solution, we will give brief physical interpretations as well."
   ]
  },
  {
   "cell_type": "markdown",
   "metadata": {},
   "source": [
    "### Integrating the Differential Equation\n",
    "\n",
    "First, we need to bring the differential equation in to an exact form \n",
    "\n",
    "$$\n",
    "\\begal\n",
    "\\ddttwo{x} = \\frac{dv}{dx}v & =  \\alpha x + \\gamma x^2 + \\beta x^3\n",
    "\\\\\n",
    "\\half m v^2 & = E + \\half x^2 + \\frac{1}{3}\\gamma x^3 + \\frac{1}{4} x^4\n",
    "\\\\\n",
    "\\ddt{x} & = \\pm \\sqrt{\\alpha x^2 + \\frac{2}{3} x^3 + \\beta \\frac{1}{2} x^4 + 2 \\frac{E}{m}}\n",
    "\\\\\n",
    "t & = \\int_{x_i}^{x_f}\\frac{\\pm dx}{\\sqrt{\\frac{2E}{m}+\\alpha x^2 + \\frac{2}{3} \\gamma x^3 + \\half \\beta x^4}}\n",
    "\\\\\n",
    "t & = \\int_{x_i}^{x_f}\\frac{\\pm dx}{\\sqrt{P(x)}}\n",
    "\\endal\n",
    "$$\n",
    "\n",
    "where $P(x)=\\frac{2E}{m}+\\alpha x^2 + \\frac{2}{3} \\gamma x^3 + \\half \\beta x^4$"
   ]
  },
  {
   "cell_type": "markdown",
   "metadata": {},
   "source": [
    "### Physical Interpretation\n",
    "\n",
    "At this stage, we have to take a step back from the math and think about the physics: what does the minus sign mean?\n",
    "\n",
    "One way to interpret it is by using the fact that the particle moves back and forth, assuming it exhibits oscillatory motion which is what we're interested in (otherwise the particle would move off to infinity at a roughly expontial rate). And during the motion, it changes direction meaning that as time goes forward $dx$ flips sign. This would mean that $\\pm dx$ is positive when the particle is moving in the $+x$ direction and negative when the particle is moving in the $-x$ direction.\n",
    "\n",
    "Let's discuss a few physical cases:\n",
    "\n",
    "1. $\\beta > 0$: $P(x)$ tends to infinity when the particle moves in either direction. This leads to $dx/\\sqrt{P(x)}$ tending towards 0. Hence, $t$ would increase much more slowly as $x$ increases and the speed would tend towards infinity. But this is assuming that $P(x)$ doesn't reach 0 by then--if it does, then the particle will simply switch direction and continue in the opposite direction and continue until either $P(x) = 0$ (which will cause it to turn back) or $P(x) \\rightarrow \\infty$ (which will lead to exponential divergence towards the opposite direction).\n",
    "\n",
    "2. $\\beta < 0$: In this case, $P(x)$ whill have to reach 0 in either direction, meaning the motion will be oscillatory and periodic.\n",
    "\n",
    "3. $\\beta=0$: In this case, the particle will either exhibit harmonic motion (if it doesn't have enough energy to overcome the well) or it will exponentially diverge to the left or right depending on the sign of $\\gamma$."
   ]
  },
  {
   "cell_type": "markdown",
   "metadata": {},
   "source": [
    "From now on, we will assume the particle oscillates:"
   ]
  },
  {
   "cell_type": "markdown",
   "metadata": {},
   "source": [
    "For convenience, we will define time such that $t=0$ at the left boundary of the oscillations at $x=x_l$ where $P(x_l)=0$ and $\\ddttwo{x_l} > 0$. We also denote the right boundary of the oscillations by $x_r$ where $P(x_r)=0$ and $\\ddttwo{x_r} < 0$. And we denote by $\\tau$ the period of the oscillations. We also assume that there have been no points where $P(x)$ reaches 0 in between these two points."
   ]
  },
  {
   "cell_type": "markdown",
   "metadata": {},
   "source": [
    "\n",
    "Then, we have\n",
    "\n",
    "$$\\tau = 2\\int_{x^\\prime = x_l}^{x_r} \\frac{dx^\\prime}{\\sqrt{P(x^\\prime)}}$$\n",
    "\n",
    "and\n",
    "\n",
    "$$\n",
    "\\begal\n",
    "t & = n \\tau + \\int_{x^\\prime = x_l}^{x} \\frac{dx^\\prime}{\\sqrt{P(x^\\prime)}} \\ \\text{ for } t = n \\tau + t^\\prime, \\ n = 0,1,2,... \\& \\  0 \\leq t^\\prime < \\tau/2 \n",
    "\\\\\n",
    "t & = (n+1) \\tau - \\int_{x^\\prime = x_l}^{x} \\frac{dx^\\prime}{\\sqrt{P(x^\\prime)}} \\ \\text{ for } t = n \\tau + t^\\prime, \\ n = 0,1,2,... \\& \\ \\tau/2  \\leq t^\\prime < \\tau\n",
    "\\endal\n",
    "$$"
   ]
  },
  {
   "cell_type": "markdown",
   "metadata": {},
   "source": [
    "Here, we have defined $t$ as a single-valued function of $t$. Hence, to find $x(t)$, we simply need to find the inverse function of $t(x)$."
   ]
  },
  {
   "cell_type": "markdown",
   "metadata": {},
   "source": [
    "### Theoretical Calculations\n",
    "\n",
    "At this point, we have gone far in clarifying the problem we have at hand and putting it into a mathematical form. Now, let us move on to the theoretical calculations for which we will make use of Wolfram Alpha. These are the steps we must follow:\n",
    "\n",
    "1. Find the roots of the equation $P(x)= \\frac{2E}{m}+\\alpha x^2 + \\frac{2}{3} \\gamma x^3 + \\half \\beta x^4$. This will help us determine $x_l$ and $x_r$. \n",
    "2. Solve the integral $\\int \\frac{dx}{\\sqrt{P(x)}}$ to find $t(x)$\n",
    "3. Find $x(t)$ as the inverse of $t(x)$.\n",
    "\n",
    "Note that these steps can be executed using Wolfram Alpha for given parameters. However, the general solution can be very complicated. For example, this is the analytical solution of the roots of the fourth degree polynomial we will need to find in order to determine $x_l$ and $x_r$:"
   ]
  },
  {
   "cell_type": "raw",
   "metadata": {},
   "source": [
    "In[8]:= Solve[2*E/m + a * x^2 + 2/3 g * x^3 + 1/2 * b * x^4 == 0, x ]\n",
    "\n",
    "Out[8]= {{x -> -(g/(3 b)) - \n",
    "    1/2 \\[Sqrt](-((4 a)/(3 b)) + (4 g^2)/(\n",
    "        9 b^2) + (4 2^(\n",
    "           1/3) (12 b E m + a^2 m^2))/(b m (-15552 a b E m^2 + \n",
    "             5184 E g^2 m^2 + 432 a^3 m^3 + \n",
    "             Sqrt[-4 (432 b E m + 36 a^2 m^2)^3 + (-15552 a b E m^2 + \n",
    "                5184 E g^2 m^2 + 432 a^3 m^3)^2])^(1/3)) + (1/(\n",
    "        9 2^(1/3)\n",
    "          b m))((-15552 a b E m^2 + 5184 E g^2 m^2 + 432 a^3 m^3 + \n",
    "          Sqrt[-4 (432 b E m + 36 a^2 m^2)^3 + (-15552 a b E m^2 + \n",
    "             5184 E g^2 m^2 + 432 a^3 m^3)^2])^(1/3))) - \n",
    "    1/2 \\[Sqrt](-((8 a)/(3 b)) + (8 g^2)/(\n",
    "        9 b^2) - (4 2^(\n",
    "           1/3) (12 b E m + a^2 m^2))/(b m (-15552 a b E m^2 + \n",
    "             5184 E g^2 m^2 + 432 a^3 m^3 + \n",
    "             Sqrt[-4 (432 b E m + 36 a^2 m^2)^3 + (-15552 a b E m^2 + \n",
    "                5184 E g^2 m^2 + 432 a^3 m^3)^2])^(1/3)) - (1/(\n",
    "        9 2^(1/3)\n",
    "          b m))((-15552 a b E m^2 + 5184 E g^2 m^2 + 432 a^3 m^3 + \n",
    "          Sqrt[-4 (432 b E m + 36 a^2 m^2)^3 + (-15552 a b E m^2 + \n",
    "             5184 E g^2 m^2 + 432 a^3 m^3)^2])^(\n",
    "        1/\n",
    "         3)) - ((32 a g)/(3 b^2) - (64 g^3)/(\n",
    "           27 b^3))/(4 \\[Sqrt](-((4 a)/(3 b)) + (4 g^2)/(\n",
    "              9 b^2) + (4 2^(\n",
    "                 1/3) (12 b E m + a^2 m^2))/(b m (-15552 a b E m^2 + \n",
    "                   5184 E g^2 m^2 + 432 a^3 m^3 + \n",
    "                   Sqrt[-4 (432 b E m + \n",
    "                    36 a^2 m^2)^3 + (-15552 a b E m^2 + \n",
    "                    5184 E g^2 m^2 + 432 a^3 m^3)^2])^(1/3)) + (1/(\n",
    "              9 2^(1/3)\n",
    "                b m))((-15552 a b E m^2 + 5184 E g^2 m^2 + \n",
    "                432 a^3 m^3 + \n",
    "                Sqrt[-4 (432 b E m + \n",
    "                    36 a^2 m^2)^3 + (-15552 a b E m^2 + \n",
    "                   5184 E g^2 m^2 + 432 a^3 m^3)^2])^(\n",
    "              1/3)))))}, {x -> -(g/(3 b)) - \n",
    "    1/2 \\[Sqrt](-((4 a)/(3 b)) + (4 g^2)/(\n",
    "        9 b^2) + (4 2^(\n",
    "           1/3) (12 b E m + a^2 m^2))/(b m (-15552 a b E m^2 + \n",
    "             5184 E g^2 m^2 + 432 a^3 m^3 + \n",
    "             Sqrt[-4 (432 b E m + 36 a^2 m^2)^3 + (-15552 a b E m^2 + \n",
    "                5184 E g^2 m^2 + 432 a^3 m^3)^2])^(1/3)) + (1/(\n",
    "        9 2^(1/3)\n",
    "          b m))((-15552 a b E m^2 + 5184 E g^2 m^2 + 432 a^3 m^3 + \n",
    "          Sqrt[-4 (432 b E m + 36 a^2 m^2)^3 + (-15552 a b E m^2 + \n",
    "             5184 E g^2 m^2 + 432 a^3 m^3)^2])^(1/3))) + \n",
    "    1/2 \\[Sqrt](-((8 a)/(3 b)) + (8 g^2)/(\n",
    "        9 b^2) - (4 2^(\n",
    "           1/3) (12 b E m + a^2 m^2))/(b m (-15552 a b E m^2 + \n",
    "             5184 E g^2 m^2 + 432 a^3 m^3 + \n",
    "             Sqrt[-4 (432 b E m + 36 a^2 m^2)^3 + (-15552 a b E m^2 + \n",
    "                5184 E g^2 m^2 + 432 a^3 m^3)^2])^(1/3)) - (1/(\n",
    "        9 2^(1/3)\n",
    "          b m))((-15552 a b E m^2 + 5184 E g^2 m^2 + 432 a^3 m^3 + \n",
    "          Sqrt[-4 (432 b E m + 36 a^2 m^2)^3 + (-15552 a b E m^2 + \n",
    "             5184 E g^2 m^2 + 432 a^3 m^3)^2])^(\n",
    "        1/3)) - ((32 a g)/(3 b^2) - (64 g^3)/(\n",
    "           27 b^3))/(4 \\[Sqrt](-((4 a)/(3 b)) + (4 g^2)/(\n",
    "              9 b^2) + (4 2^(\n",
    "                 1/3) (12 b E m + a^2 m^2))/(b m (-15552 a b E m^2 + \n",
    "                   5184 E g^2 m^2 + 432 a^3 m^3 + \n",
    "                   Sqrt[-4 (432 b E m + \n",
    "                    36 a^2 m^2)^3 + (-15552 a b E m^2 + \n",
    "                    5184 E g^2 m^2 + 432 a^3 m^3)^2])^(1/3)) + (1/(\n",
    "              9 2^(1/3)\n",
    "                b m))((-15552 a b E m^2 + 5184 E g^2 m^2 + \n",
    "                432 a^3 m^3 + \n",
    "                Sqrt[-4 (432 b E m + \n",
    "                    36 a^2 m^2)^3 + (-15552 a b E m^2 + \n",
    "                   5184 E g^2 m^2 + 432 a^3 m^3)^2])^(\n",
    "              1/3)))))}, {x -> -(g/(3 b)) + \n",
    "    1/2 \\[Sqrt](-((4 a)/(3 b)) + (4 g^2)/(\n",
    "        9 b^2) + (4 2^(\n",
    "           1/3) (12 b E m + a^2 m^2))/(b m (-15552 a b E m^2 + \n",
    "             5184 E g^2 m^2 + 432 a^3 m^3 + \n",
    "             Sqrt[-4 (432 b E m + 36 a^2 m^2)^3 + (-15552 a b E m^2 + \n",
    "                5184 E g^2 m^2 + 432 a^3 m^3)^2])^(1/3)) + (1/(\n",
    "        9 2^(1/3)\n",
    "          b m))((-15552 a b E m^2 + 5184 E g^2 m^2 + 432 a^3 m^3 + \n",
    "          Sqrt[-4 (432 b E m + 36 a^2 m^2)^3 + (-15552 a b E m^2 + \n",
    "             5184 E g^2 m^2 + 432 a^3 m^3)^2])^(1/3))) - \n",
    "    1/2 \\[Sqrt](-((8 a)/(3 b)) + (8 g^2)/(\n",
    "        9 b^2) - (4 2^(\n",
    "           1/3) (12 b E m + a^2 m^2))/(b m (-15552 a b E m^2 + \n",
    "             5184 E g^2 m^2 + 432 a^3 m^3 + \n",
    "             Sqrt[-4 (432 b E m + 36 a^2 m^2)^3 + (-15552 a b E m^2 + \n",
    "                5184 E g^2 m^2 + 432 a^3 m^3)^2])^(1/3)) - (1/(\n",
    "        9 2^(1/3)\n",
    "          b m))((-15552 a b E m^2 + 5184 E g^2 m^2 + 432 a^3 m^3 + \n",
    "          Sqrt[-4 (432 b E m + 36 a^2 m^2)^3 + (-15552 a b E m^2 + \n",
    "             5184 E g^2 m^2 + 432 a^3 m^3)^2])^(\n",
    "        1/3)) + ((32 a g)/(3 b^2) - (64 g^3)/(\n",
    "           27 b^3))/(4 \\[Sqrt](-((4 a)/(3 b)) + (4 g^2)/(\n",
    "              9 b^2) + (4 2^(\n",
    "                 1/3) (12 b E m + a^2 m^2))/(b m (-15552 a b E m^2 + \n",
    "                   5184 E g^2 m^2 + 432 a^3 m^3 + \n",
    "                   Sqrt[-4 (432 b E m + \n",
    "                    36 a^2 m^2)^3 + (-15552 a b E m^2 + \n",
    "                    5184 E g^2 m^2 + 432 a^3 m^3)^2])^(1/3)) + (1/(\n",
    "              9 2^(1/3)\n",
    "                b m))((-15552 a b E m^2 + 5184 E g^2 m^2 + \n",
    "                432 a^3 m^3 + \n",
    "                Sqrt[-4 (432 b E m + \n",
    "                    36 a^2 m^2)^3 + (-15552 a b E m^2 + \n",
    "                   5184 E g^2 m^2 + 432 a^3 m^3)^2])^(\n",
    "              1/3)))))}, {x -> -(g/(3 b)) + \n",
    "    1/2 \\[Sqrt](-((4 a)/(3 b)) + (4 g^2)/(\n",
    "        9 b^2) + (4 2^(\n",
    "           1/3) (12 b E m + a^2 m^2))/(b m (-15552 a b E m^2 + \n",
    "             5184 E g^2 m^2 + 432 a^3 m^3 + \n",
    "             Sqrt[-4 (432 b E m + 36 a^2 m^2)^3 + (-15552 a b E m^2 + \n",
    "                5184 E g^2 m^2 + 432 a^3 m^3)^2])^(1/3)) + (1/(\n",
    "        9 2^(1/3)\n",
    "          b m))((-15552 a b E m^2 + 5184 E g^2 m^2 + 432 a^3 m^3 + \n",
    "          Sqrt[-4 (432 b E m + 36 a^2 m^2)^3 + (-15552 a b E m^2 + \n",
    "             5184 E g^2 m^2 + 432 a^3 m^3)^2])^(1/3))) + \n",
    "    1/2 \\[Sqrt](-((8 a)/(3 b)) + (8 g^2)/(\n",
    "        9 b^2) - (4 2^(\n",
    "           1/3) (12 b E m + a^2 m^2))/(b m (-15552 a b E m^2 + \n",
    "             5184 E g^2 m^2 + 432 a^3 m^3 + \n",
    "             Sqrt[-4 (432 b E m + 36 a^2 m^2)^3 + (-15552 a b E m^2 + \n",
    "                5184 E g^2 m^2 + 432 a^3 m^3)^2])^(1/3)) - (1/(\n",
    "        9 2^(1/3)\n",
    "          b m))((-15552 a b E m^2 + 5184 E g^2 m^2 + 432 a^3 m^3 + \n",
    "          Sqrt[-4 (432 b E m + 36 a^2 m^2)^3 + (-15552 a b E m^2 + \n",
    "             5184 E g^2 m^2 + 432 a^3 m^3)^2])^(\n",
    "        1/3)) + ((32 a g)/(3 b^2) - (64 g^3)/(\n",
    "           27 b^3))/(4 \\[Sqrt](-((4 a)/(3 b)) + (4 g^2)/(\n",
    "              9 b^2) + (4 2^(\n",
    "                 1/3) (12 b E m + a^2 m^2))/(b m (-15552 a b E m^2 + \n",
    "                   5184 E g^2 m^2 + 432 a^3 m^3 + \n",
    "                   Sqrt[-4 (432 b E m + \n",
    "                    36 a^2 m^2)^3 + (-15552 a b E m^2 + \n",
    "                    5184 E g^2 m^2 + 432 a^3 m^3)^2])^(1/3)) + (1/(\n",
    "              9 2^(1/3)\n",
    "                b m))((-15552 a b E m^2 + 5184 E g^2 m^2 + \n",
    "                432 a^3 m^3 + \n",
    "                Sqrt[-4 (432 b E m + \n",
    "                    36 a^2 m^2)^3 + (-15552 a b E m^2 + \n",
    "                   5184 E g^2 m^2 + 432 a^3 m^3)^2])^(1/3)))))}}\n"
   ]
  },
  {
   "cell_type": "markdown",
   "metadata": {},
   "source": [
    "This is also why computer simulations can be very useful for complex mechanical systems. Here is a discretized numerical simulation of the solution:"
   ]
  },
  {
   "cell_type": "code",
   "execution_count": null,
   "metadata": {},
   "outputs": [],
   "source": [
    "import numpy as np\n",
    "import matplotlib.pyplot as plt\n",
    "import seaborn as sns\n",
    "import math "
   ]
  },
  {
   "cell_type": "code",
   "execution_count": null,
   "metadata": {
    "scrolled": true
   },
   "outputs": [],
   "source": [
    "sns.set()\n",
    "DeltaT = 0.001\n",
    "#set up arrays \n",
    "tfinal = 30 # in seconds\n",
    "n = math.ceil(tfinal/DeltaT)\n",
    "# set up arrays for time t, velocity v, and position r\n",
    "t = np.zeros(n)\n",
    "v = np.zeros(n)\n",
    "x = np.zeros(n)\n",
    "# Example of Initial conditions\n",
    "m = 1\n",
    "V_0 = 1\n",
    "d = 0.1\n",
    "x0 = d\n",
    "v0 = 0.5\n",
    "x[0] = x0\n",
    "v[0] = v0\n",
    "# Start integrating using Euler's method\n",
    "for i in range(n-1):\n",
    "    # Set up the acceleration\n",
    "    # Here you could have defined your own function for this\n",
    "    a = (x[i] - 1*x[i]**2 - 0.5*x[i]**3)\n",
    "    #print(a)\n",
    "    # update velocity, time and position using the Euler-Cromer method\n",
    "    v[i+1] = v[i] + DeltaT*a\n",
    "    x[i+1] = x[i] + DeltaT*v[i+1]\n",
    "    t[i+1] = t[i] + DeltaT\n",
    "plt.plot(t,v,label = 'Velocity')\n",
    "plt.plot(t,x,label = 'Position')\n",
    "plt.legend()"
   ]
  },
  {
   "cell_type": "code",
   "execution_count": null,
   "metadata": {},
   "outputs": [],
   "source": [
    "DeltaT = 0.001\n",
    "#set up arrays \n",
    "tfinal = 30 # in seconds\n",
    "n = math.ceil(tfinal/DeltaT)\n",
    "# set up arrays for time t, velocity v, and position r\n",
    "new_t = np.zeros(n)\n",
    "new_v = np.zeros(n)\n",
    "new_x = np.zeros(n)\n",
    "# Example of Initial conditions\n",
    "m = 1\n",
    "V_0 = 1\n",
    "d = 0.1\n",
    "x0 = d\n",
    "v0 = 0.5\n",
    "new_x[0] = x0\n",
    "new_v[0] = v0\n",
    "# Start integrating using Euler's method\n",
    "for i in range(n-1):\n",
    "    # Set up the acceleration\n",
    "    a0 = (x[i] - 1*x[i]**2 - 0.5*x[i]**3)\n",
    "    #print(a)\n",
    "    # update velocity, time and position using the Euler-Cromer method\n",
    "    new_x[i+1] = new_x[i] + DeltaT*new_v[i] + ((DeltaT**2)/2)*a0\n",
    "    new_a = (x[i+1] - 1*x[i+1]**2 - 0.5*x[i+1]**3)\n",
    "    new_v[i+1] = new_v[i] + (DeltaT/2)*(a0 + new_a)\n",
    "    new_t[i+1] = new_t[i] + DeltaT\n",
    "plt.plot(t,new_v,label = 'Velocity')\n",
    "plt.plot(t,new_x,label = 'Position')\n",
    "plt.legend()"
   ]
  },
  {
   "cell_type": "markdown",
   "metadata": {},
   "source": [
    "While the full expression is necessary for a complete answer, in this context, we can limit our analysis to the simple case when $V(x) = \\frac{V_0}{d^4}\\left(d^4 - 2x^2d^2+x^4\\right)$, such that \n",
    "$$P(x) = \\frac{2}{m}(E-V(x)) = \\frac{2}{m}\\left[ E -  \\frac{V_0}{d^4}\\left(d^4 - 2x^2d^2+x^4\\right)\\right]$$"
   ]
  },
  {
   "cell_type": "markdown",
   "metadata": {},
   "source": [
    "Then, we have\n",
    "\n",
    "$$\n",
    "\\begal\n",
    "x = \\pm d \\sqrt{1 \\pm \\sqrt{\\frac{E}{V_0}}}\n",
    "\\endal\n",
    "$$\n",
    "\n",
    "which can be verified through calculations"
   ]
  },
  {
   "cell_type": "markdown",
   "metadata": {},
   "source": [
    "Therefore, if $E> V_0$, we have\n",
    "$$\n",
    "\\begal\n",
    "x_l & = -\\sqrt{1 + \\sqrt{\\frac{E}{V_0}}}\n",
    "\\\\\n",
    "x_r & = \\sqrt{1 + \\sqrt{\\frac{E}{V_0}}}\n",
    "\\endal\n",
    "$$\n",
    "\n",
    "If $E \\leq V_0$, we have\n",
    "\n",
    "$$\n",
    "\\begal\n",
    "x_l & = \\left\\{ \\begin{array}{rl}\n",
    "-\\sqrt{1 + \\sqrt{\\frac{E}{V_0}}} &\\mbox{ if motion is confined to left well} \\\\\n",
    "\\sqrt{1 - \\sqrt{\\frac{E}{V_0}}} &\\mbox{ if motion is confined to right well}\n",
    "\\end{array} \\right.\n",
    "\\\\\n",
    "x_r & = \\left\\{ \\begin{array}{rl}\n",
    "-\\sqrt{1 - \\sqrt{\\frac{E}{V_0}}} &\\mbox{ if motion is confined to left well} \\\\\n",
    "\\sqrt{1 + \\sqrt{\\frac{E}{V_0}}} &\\mbox{ if motion is confined to right well}\n",
    "\\end{array} \\right.\n",
    "\\endal\n",
    "$$"
   ]
  },
  {
   "cell_type": "markdown",
   "metadata": {},
   "source": [
    "Then, we can simply use the equations\n",
    "\n",
    "$$\n",
    "\\begal\n",
    "\\tau & = 2\\int_{x^\\prime = x_l}^{x_r} \\frac{dx^\\prime}{\\sqrt{P(x^\\prime)}}\n",
    "\\\\\n",
    "t & = n \\tau + \\int_{x^\\prime = x_l}^{x} \\frac{dx^\\prime}{\\sqrt{P(x^\\prime)}} \\ \\text{ for } t = n \\tau + t^\\prime, \\ n = 0,1,2,... \\& \\  0 \\leq t^\\prime < \\tau/2 \n",
    "\\\\\n",
    "t & = (n+1) \\tau - \\int_{x^\\prime = x_l}^{x} \\frac{dx^\\prime}{\\sqrt{P(x^\\prime)}} \\ \\text{ for } t = n \\tau + t^\\prime, \\ n = 0,1,2,... \\& \\ \\tau/2  \\leq t^\\prime < \\tau\n",
    "\\endal\n",
    "$$\n",
    "\n",
    "to determine $t$ as a function of $x$, and from there, $x$ as a function of $t$. Using Wolfram Alpha, we can solve these equations for given parameters. For example, take the case when $m = 1$, $V_0=1$,$E=4$, and $d=1$. Then we enter to Wolfram Alpha:\n",
    "\n",
    "Integrate 2/sqrt( 2(3+2x^2-x^4)) from -sqrt(3) to sqrt(3)\n",
    "\n",
    "and find $\\tau = 3.04977$. Let's now see what happens when we simulate it:"
   ]
  },
  {
   "cell_type": "code",
   "execution_count": null,
   "metadata": {},
   "outputs": [],
   "source": [
    "x, v = runge_kutta4(a,np.sqrt(3),0,np.arange(0,3.04977,0.0001),[1,1,1])\n",
    "\n",
    "plt.plot(np.arange(0,3.04977,0.0001),x)"
   ]
  },
  {
   "cell_type": "markdown",
   "metadata": {},
   "source": [
    "As we see, we get a perfect oscillation that fits our theoretical model perfectly for the given parameters. But here, we have just outlined a possible route for a solution and shown that it works for a very simple case. We have also given physical interpretations to distinct physical cases. But future investigations could focus on applying these methods in a more variety of situations, as well as the accuracy of the numerical methods."
   ]
  }
 ],
 "metadata": {
  "kernelspec": {
   "display_name": "Python 3",
   "language": "python",
   "name": "python3"
  },
  "language_info": {
   "codemirror_mode": {
    "name": "ipython",
    "version": 3
   },
   "file_extension": ".py",
   "mimetype": "text/x-python",
   "name": "python",
   "nbconvert_exporter": "python",
   "pygments_lexer": "ipython3",
   "version": "3.7.4"
  }
 },
 "nbformat": 4,
 "nbformat_minor": 2
}

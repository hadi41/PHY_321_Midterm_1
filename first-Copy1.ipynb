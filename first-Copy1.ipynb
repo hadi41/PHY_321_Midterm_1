{
 "cells": [
  {
   "cell_type": "markdown",
   "metadata": {},
   "source": [
    "<!-- dom:TITLE: PHY321: Classical Mechanics 1 -->\n",
    "# PHY321: Classical Mechanics 1\n",
    "<!-- dom:AUTHOR: First midterm project, due Wednesday March 11 -->\n",
    "<!-- Author: -->  \n",
    "**First midterm project, due Wednesday March 11**\n",
    "\n",
    "Date: **Feb 26, 2020**\n",
    "\n",
    "### Practicalities about  homeworks and projects\n",
    "\n",
    "1. You can work in groups (optimal groups are often 2-3 people) or by yourself. If you work as a group you can hand in one answer only if you wish. **Remember to write your name(s)**!\n",
    "\n",
    "2. How do I(we)  hand in?  You can hand in the paper and pencil exercises as a hand-written document. Alternatively, you can hand in everyhting (if you are ok with typing mathematical formulae using say Latex) as a jupyter notebook at D2L. The numerical part should always be handed in as a jupyter notebook by the deadline at D2L. \n",
    "\n",
    "### Introduction to the first midterm project, total score 100 points\n",
    "\n",
    "The relevant reading background is\n",
    "1. chapters 2-5 of Taylor.\n",
    "\n",
    "2. chapters 6-14 of Malthe-Sørenssen.\n",
    "\n",
    "In this midterm project we will start with a potential similar to the\n",
    "one we discussed in exercise 4 in homework 6. There are some elements\n",
    "of that exercise which are repeated here, similarly, a good fraction\n",
    "of the codes you have developed for homeworks 4-6 can be used here.\n",
    "We start with a one-dimensional potential and motion.  Thereafter we\n",
    "extend this potential model to a two-dimensional model and study the\n",
    "numerical solution of the corresponding problem.\n",
    "\n",
    "### Part 1, Particle in a one-dimensional  potential\n",
    "\n",
    "We consider a particle of mass $m$ moving in a one-dimensional potential,"
   ]
  },
  {
   "cell_type": "markdown",
   "metadata": {},
   "source": [
    "$$\n",
    "V(x)=\\frac{V_0}{d^4}\\left(x^4-2x^2d^2+d^4\\right).\n",
    "$$"
   ]
  },
  {
   "cell_type": "markdown",
   "metadata": {},
   "source": [
    "We will assume all other forces on the particle are small in comparison, and neglect them in our model.  The parameters $V_0$ and $d$ are known constants. \n",
    "\n",
    "1. (5pt) Plot the potential and find the  equilibrium points (stable and unstable) by requiring that the first derivative of the potential is zero. Make an energy diagram (see for example Malthe-Sørenssen chapter 11.3) and mark the equilibrium points on the diagram and characterize their stability. The position of the particle is $x$. \n",
    "\n",
    "2. (5pt) Choose two different energies that give two distinct types of motions, draw them into the energy diagram, and describe the motion in each case.\n",
    "\n",
    "3. (5pt) If the particle  starts at rest at $x=2d$, what is the velocity of the atom at the point $x=d$?\n",
    "\n",
    "4. (5pt) If the particle  starts at rest at $x=d$ with velocity $v_0$, how large must $v_0$ be for the  particle to reach the point $x=−d$?\n",
    "\n",
    "5. (5pt) Use the above potential to set up the total forces acting on the particle.  Find the acceleration acting on the particle. Is this a conservative force? Calculate also the **curl** of the force  $\\boldsymbol{\\nabla}\\times \\boldsymbol{F}$ in order to validate your conclusion. \n",
    "\n",
    "6. (5pt) Are linear momentum and angular momentum conserved? You need to show this by calculating the quantities.\n",
    "\n",
    "7. (5pt) Write a numerical algorithm to find the position and velocity of the particle at a time $t+\\Delta t$ given the position and velocity at a time $t$. Here we aim at the **Euler-Cromer and the Velocity Verlet algorithms**.   \n",
    "\n",
    "8. (10pt) Implement the numerical algorithms in a program to find the position of the particle as function of time from $t=0$ to $t=30$ s using a mass  $m=1.0$ kg, the parameter $V_0=1$ J and $d=0.1$ m. Make a plot of three distinct positions with initial conditions $x_0=d$ and $v_0=0.5$ m/s, $x_0=d$ and $v_0=1.5$ m/s, and $x_0=d$ and $v_0=2.5$ m/s. Plot also the velocity.  Perform calculations with and without the term $x^4$ in the potential. Do you see a difference? Compare and discuss the results obtained with the Velocity Verlet algorithm and the Euler-Cromer algorithm. \n",
    "\n",
    "9. (5pt) Describe the behavior of the particle for the three initial conditions  and sketch the motion in an energy diagram. Is energy conserved in your simulations?\n",
    "\n",
    "10. (5pt) Repeat the calculations with the full potential and all three initial conditions but now with a damping force $-\\beta v$. Find the modified acceleration using $\\beta/m=0.1$. Discuss your results and sketch again the motion in an energy diagram.\n",
    "\n",
    "### Part 2, two dimensions\n",
    "\n",
    "We move then to two dimensions. Our particle/object interacts with a surface potential given by"
   ]
  },
  {
   "cell_type": "markdown",
   "metadata": {},
   "source": [
    "$$\n",
    "V(r)=\\frac{V_0}{d^4}\\left(r^4-2r^2d^2+d^4\\right),\n",
    "$$"
   ]
  },
  {
   "cell_type": "markdown",
   "metadata": {},
   "source": [
    "where $r=\\sqrt{x^2+y^2}$ is the distance to the origin.\n",
    "\n",
    "1. (5pt) Show that the acceleration is now $\\boldsymbol{a}=-\\frac{4V_0}{md^4}\\left(r^3-rd^2\\right)\\frac{\\boldsymbol{r}}{r}$.\n",
    "\n",
    "2. (10pt) Rewrite your program to find the velocity and position of the atom using the new expression for the force $\\boldsymbol{F}$. Use vectorized expressions in your code as you did in homework 4 for the Earth-Sun system. See eventually the code from the [lectures](https://mhjensen.github.io/Physics321/doc/pub/energyconserv/html/energyconserv.html).  We recommend to revisit the Earth-Sun problem from homework 4 since it has several similarities with the problem here.\n",
    "\n",
    "3. (10pt) Plot the motion of a particle starting in $\\boldsymbol{r}_0=(d,0)$ from $t=0$ s to $t=20$ s for the initial velocities $\\boldsymbol{v}_0=(0,0.5)$ m/s, $\\boldsymbol{v}_0=(0,1)$ m/s, and $\\boldsymbol{v}_0=(0,1.5)$ m/s. The parameters $d$ and $V_0$ are as before.\n",
    "\n",
    "4. (10pt) Is energy conserved? \n",
    "\n",
    "5. (10pt) Can you choose initial conditions $r_0$ and $v_0$ in such a manner that the particle moves in a circular orbit with a constant radius? If so, what initial conditions are those? Plot the motion for these conditions.\n",
    "\n",
    "### Part 3, Bonus part (30pt)\n",
    "\n",
    "This part requires that you implement the Runge-Kutta to fourth-order algorithm for solving the differential equations.\n",
    "This is discussed in detail in the [lecture notes on harmonic oscillations](https://mhjensen.github.io/Physics321/doc/pub/harmonic/html/harmonic.html).\n",
    "\n",
    "We will focus only on the one-dimensional problem from part 1. That is we use the potential for motion in one dimension only.\n",
    "\n",
    "We use the same initial conditions and parameter values to find the position and velocity of the particle as function of time from $t=0$ to $t=30$ s using a mass  $m=1.0$ kg, the parameter $V_0=1$ J and $d=0.1$ m.  The  initial conditions are $x_0=d$ and $v_0=0.5$ m/s, $x_0=d$ and $v_0=1.5$ m/s, and $x_0=d$ and $v_0=2.5$ m/s. We include a damping term\n",
    "$-\\beta v$ using $\\beta/m=0.1$.\n",
    "\n",
    "Add a periodic driving force $F(t)=F_0\\cos{(\\omega t)}$  to your equation and find the new acceleration. Can you tune\n",
    "$\\omega$ and $F_0$ so that the particle exhibits stable oscillations in one well only and in both wells as well?\n",
    "\n",
    "Study the stability of your differential equations as function of the Runge-Kutta 4 method compared with the Euler-Cromer method. Vary also the step size and study the differences between the two methods. Comment your results.\n",
    "\n",
    "### Part 4, Additional Bonus part, Analytical solution of anharmonic oscillator (60pt)\n",
    "\n",
    "The anharmonic-oscillator equation with dissipation has been widely used in various areas of science,\n",
    "and surprisingly little has been known about its analytical solutions.\n",
    "\n",
    "The differential equation (in one dimension) is similar to the one we have studied in part 1.\n",
    "The potential we started with"
   ]
  },
  {
   "cell_type": "markdown",
   "metadata": {},
   "source": [
    "$$\n",
    "V(x)=\\frac{V_0}{d^4}\\left(x^4-2x^2d^2+d^4\\right),\n",
    "$$"
   ]
  },
  {
   "cell_type": "markdown",
   "metadata": {},
   "source": [
    "results in a force"
   ]
  },
  {
   "cell_type": "markdown",
   "metadata": {},
   "source": [
    "$$\n",
    "F(x)=-\\frac{dV}{dx}=\\frac{4V_0}{d^4}\\left(x^3-xd^2\\right).\n",
    "$$"
   ]
  },
  {
   "cell_type": "markdown",
   "metadata": {},
   "source": [
    "We could write this force in a more general way adding an $x^2$ term as"
   ]
  },
  {
   "cell_type": "markdown",
   "metadata": {},
   "source": [
    "$$\n",
    "F(x)=Ax+Bx^2+Cx^3.\n",
    "$$"
   ]
  },
  {
   "cell_type": "markdown",
   "metadata": {},
   "source": [
    "Our specific force does not have the $x^2$ term, which means we can set $B=0$.\n",
    "The general differential equation with a drift/dissipation term is then"
   ]
  },
  {
   "cell_type": "markdown",
   "metadata": {},
   "source": [
    "$$\n",
    "m\\frac{d^2x}{dt^2}+b\\frac{dx}{dt}=Ax+Bx^2+Cx^3.\n",
    "$$"
   ]
  },
  {
   "cell_type": "markdown",
   "metadata": {},
   "source": [
    "Dividing by $m$ and introducing new constants we have a differential equation"
   ]
  },
  {
   "cell_type": "markdown",
   "metadata": {},
   "source": [
    "$$\n",
    "\\frac{d^2x}{dt^2}+\\gamma\\frac{dx}{dt}=\\alpha x+\\beta x^2+\\delta x^3,\n",
    "$$"
   ]
  },
  {
   "cell_type": "markdown",
   "metadata": {},
   "source": [
    "with $\\gamma=b/m$, $\\alpha=A/m$, $\\beta=B/m$ and $\\delta=C/m$.\n",
    "Numerically, as we have seen, it is almost trivial to solve these equations by simply adding different terms to the definition of the acceleration.\n",
    "\n",
    "This part is meant more as a mathematical challenge if you feel tempted. It is a very interesting field, with connections to chaotic motion and much more. It requires some research from your side to find the analytical solution.  Your task here is to find the analytical solution and if time allows, compare with numerical studies. \n",
    "The following reference can help here\n",
    "1. [Dixon et al, Physical Review A 44, 3484 (1991)](https://journals.aps.org/pra/pdf/10.1103/PhysRevA.44.3484)"
   ]
  }
 ],
 "metadata": {},
 "nbformat": 4,
 "nbformat_minor": 2
}
